{
  "nbformat": 4,
  "nbformat_minor": 0,
  "metadata": {
    "colab": {
      "name": "asst5_part_1_B.ipynb",
      "version": "0.3.2",
      "provenance": []
    },
    "kernelspec": {
      "name": "python3",
      "display_name": "Python 3"
    },
    "accelerator": "GPU"
  },
  "cells": [
    {
      "cell_type": "code",
      "metadata": {
        "id": "UMf5Qg1C661e",
        "colab_type": "code",
        "colab": {}
      },
      "source": [
        ""
      ],
      "execution_count": 0,
      "outputs": []
    },
    {
      "cell_type": "code",
      "metadata": {
        "id": "uJxvh87l66ts",
        "colab_type": "code",
        "outputId": "9ec081dd-65f1-490a-c015-12dffe424cff",
        "colab": {
          "base_uri": "https://localhost:8080/",
          "height": 227
        }
      },
      "source": [
        "!wget https://download.pytorch.org/tutorial/data.zip"
      ],
      "execution_count": 0,
      "outputs": [
        {
          "output_type": "stream",
          "text": [
            "--2019-07-28 04:52:14--  https://download.pytorch.org/tutorial/data.zip\n",
            "Resolving download.pytorch.org (download.pytorch.org)... 13.224.253.114, 13.224.253.46, 13.224.253.59, ...\n",
            "Connecting to download.pytorch.org (download.pytorch.org)|13.224.253.114|:443... connected.\n",
            "HTTP request sent, awaiting response... 200 OK\n",
            "Length: 2882130 (2.7M) [application/zip]\n",
            "Saving to: ‘data.zip’\n",
            "\n",
            "\rdata.zip              0%[                    ]       0  --.-KB/s               \rdata.zip            100%[===================>]   2.75M  --.-KB/s    in 0.1s    \n",
            "\n",
            "2019-07-28 04:52:14 (28.0 MB/s) - ‘data.zip’ saved [2882130/2882130]\n",
            "\n"
          ],
          "name": "stdout"
        }
      ]
    },
    {
      "cell_type": "code",
      "metadata": {
        "id": "QMb5cc0e7BbW",
        "colab_type": "code",
        "outputId": "e126424d-08c7-4fb3-c963-c2e6dfca97af",
        "colab": {
          "base_uri": "https://localhost:8080/",
          "height": 397
        }
      },
      "source": [
        "!unzip data.zip"
      ],
      "execution_count": 0,
      "outputs": [
        {
          "output_type": "stream",
          "text": [
            "Archive:  data.zip\n",
            "   creating: data/\n",
            "  inflating: data/eng-fra.txt        \n",
            "   creating: data/names/\n",
            "  inflating: data/names/Arabic.txt   \n",
            "  inflating: data/names/Chinese.txt  \n",
            "  inflating: data/names/Czech.txt    \n",
            "  inflating: data/names/Dutch.txt    \n",
            "  inflating: data/names/English.txt  \n",
            "  inflating: data/names/French.txt   \n",
            "  inflating: data/names/German.txt   \n",
            "  inflating: data/names/Greek.txt    \n",
            "  inflating: data/names/Irish.txt    \n",
            "  inflating: data/names/Italian.txt  \n",
            "  inflating: data/names/Japanese.txt  \n",
            "  inflating: data/names/Korean.txt   \n",
            "  inflating: data/names/Polish.txt   \n",
            "  inflating: data/names/Portuguese.txt  \n",
            "  inflating: data/names/Russian.txt  \n",
            "  inflating: data/names/Scottish.txt  \n",
            "  inflating: data/names/Spanish.txt  \n",
            "  inflating: data/names/Vietnamese.txt  \n"
          ],
          "name": "stdout"
        }
      ]
    },
    {
      "cell_type": "code",
      "metadata": {
        "id": "kGwXIm_Q7HWe",
        "colab_type": "code",
        "colab": {}
      },
      "source": [
        "from __future__ import unicode_literals, print_function, division\n",
        "from io import open\n",
        "import glob\n",
        "import os\n",
        "import unicodedata\n",
        "import string\n",
        "import math\n",
        "import random"
      ],
      "execution_count": 0,
      "outputs": []
    },
    {
      "cell_type": "code",
      "metadata": {
        "id": "jsC1shy17K_G",
        "colab_type": "code",
        "outputId": "0b9bc6e8-eb27-44ac-f6f1-95b7639cabe5",
        "colab": {
          "base_uri": "https://localhost:8080/",
          "height": 72
        }
      },
      "source": [
        "all_letters = string.ascii_letters + \" .,;'-\"\n",
        "n_letters = len(all_letters) + 1  # Plus EOS marker\n",
        "\n",
        "\n",
        "def findFiles(path): return glob.glob(path)\n",
        "\n",
        "\n",
        "# Turn a Unicode string to plain ASCII, thanks to http://stackoverflow.com/a/518232/2809427\n",
        "def unicodeToAscii(s):\n",
        "    return ''.join(\n",
        "        c for c in unicodedata.normalize('NFD', s)\n",
        "        if unicodedata.category(c) != 'Mn'\n",
        "        and c in all_letters\n",
        "    )\n",
        "\n",
        "\n",
        "# Read a file and split into lines\n",
        "def readLines(filename):\n",
        "    lines = open(filename, encoding='utf-8').read().strip().split('\\n')\n",
        "    return [unicodeToAscii(line) for line in lines]\n",
        "\n",
        "\n",
        "# Build the category_lines dictionary, a list of lines per category\n",
        "category_lines = {}\n",
        "train_data = {}\n",
        "test_data = {}\n",
        "all_categories = []\n",
        "for filename in findFiles('data/names/*.txt'):\n",
        "    category = os.path.splitext(os.path.basename(filename))[0]\n",
        "    all_categories.append(category)\n",
        "    lines = readLines(filename)\n",
        "    random.shuffle(lines)\n",
        "    train_data[category] = lines[0:int(math.floor(0.8 * len(lines)))]\n",
        "    test_data[category] = lines[int(math.floor(0.8 * len(lines))) + 1:]\n",
        "    category_lines[category] = lines\n",
        "\n",
        "n_categories = len(all_categories)\n",
        "\n",
        "if n_categories == 0:\n",
        "    raise RuntimeError('Data not found. Make sure that you downloaded data '\n",
        "                       'from https://download.pytorch.org/tutorial/data.zip and extract it to '\n",
        "                       'the current directory.')\n",
        "\n",
        "print('# categories:', n_categories, all_categories)\n",
        "print(unicodeToAscii(\"O'NÃ©Ã l\"))"
      ],
      "execution_count": 0,
      "outputs": [
        {
          "output_type": "stream",
          "text": [
            "# categories: 18 ['Spanish', 'Japanese', 'Chinese', 'Czech', 'Portuguese', 'Scottish', 'English', 'Italian', 'Irish', 'Korean', 'German', 'Greek', 'French', 'Arabic', 'Russian', 'Polish', 'Vietnamese', 'Dutch']\n",
            "O'NAA l\n"
          ],
          "name": "stdout"
        }
      ]
    },
    {
      "cell_type": "code",
      "metadata": {
        "id": "2UzDmWcb7Qzt",
        "colab_type": "code",
        "colab": {}
      },
      "source": [
        "import torch\n",
        "import torch.nn as nn\n",
        "from torch.autograd import Variable\n",
        "\n",
        "\n",
        "class RNN(nn.Module):\n",
        "    def __init__(self, input_size, hidden_size, output_size, model = 'i'):\n",
        "        super(RNN, self).__init__()\n",
        "        self.hidden_size = hidden_size\n",
        "        self.model = model\n",
        "        \n",
        "        if self.model == 'ii':\n",
        "          self.i2h_0 = nn.Linear(n_categories + input_size + hidden_size, hidden_size)\n",
        "          self.i2o_0 = nn.Linear(n_categories + input_size + hidden_size, output_size)\n",
        "          self.i2h = nn.Linear(input_size + hidden_size, hidden_size)\n",
        "          self.i2o = nn.Linear(input_size + hidden_size, output_size)\n",
        "          \n",
        "        elif self.model == 'iii':\n",
        "          self.i2h = nn.Linear(n_categories + hidden_size, hidden_size)\n",
        "          self.i2o = nn.Linear(n_categories + hidden_size, output_size)\n",
        "          \n",
        "        elif self.model == 'iv':\n",
        "          self.i2h_0 = nn.Linear(n_categories + hidden_size, hidden_size)\n",
        "          self.i2o_0 = nn.Linear(n_categories + hidden_size, output_size)\n",
        "          self.i2h = nn.Linear(hidden_size, hidden_size)\n",
        "          self.i2o = nn.Linear(hidden_size, output_size) \n",
        "          \n",
        "        else:\n",
        "          self.i2h = nn.Linear(n_categories + input_size + hidden_size, hidden_size)\n",
        "          self.i2o = nn.Linear(n_categories + input_size + hidden_size, output_size)    \n",
        "        self.o2o = nn.Linear(hidden_size + output_size, output_size)\n",
        "        self.dropout = nn.Dropout(0.1)\n",
        "        self.softmax = nn.LogSoftmax(dim=1)\n",
        "\n",
        "    def forward(self, category, input, hidden, time_step):\n",
        "#       print(time_step)\n",
        "      if self.model == 'ii':\n",
        "          if time_step == 0:\n",
        "            input_combined = torch.cat((category, input, hidden), 1)  \n",
        "#             print(input_combined.shape, hidden.shape, input.shape, category.shape)\n",
        "            hidden = self.i2h_0(input_combined)\n",
        "#             print(hidden.shape)\n",
        "            output = self.i2o_0(input_combined)\n",
        "          else:\n",
        "            input_combined = torch.cat((input, hidden), 1) \n",
        "            hidden = self.i2h(input_combined)\n",
        "            output = self.i2o(input_combined)              \n",
        "        \n",
        "      elif self.model == 'iii':\n",
        "        input_combined = torch.cat((category, hidden), 1)  \n",
        "        hidden = self.i2h(input_combined)\n",
        "        output = self.i2o(input_combined)\n",
        "\n",
        "      elif self.model == 'iv':\n",
        "        if time_step == 0:\n",
        "          input_combined = torch.cat((category, hidden), 1)\n",
        "          hidden = self.i2h_0(input_combined)\n",
        "          output = self.i2o_0(input_combined)\n",
        "        else: \n",
        "          hidden = self.i2h(hidden)\n",
        "          output = self.i2o(hidden)\n",
        "\n",
        "      else:  \n",
        "        input_combined = torch.cat((category, input, hidden), 1)   \n",
        "        hidden = self.i2h(input_combined)\n",
        "        output = self.i2o(input_combined)\n",
        "\n",
        "      output_combined = torch.cat((hidden, output), 1)\n",
        "#       print(output_combined.shape)\n",
        "      output = self.o2o(output_combined)\n",
        "      output = self.dropout(output)\n",
        "      output = self.softmax(output)\n",
        "      return output, hidden\n",
        "\n",
        "    def initHidden(self):\n",
        "        return torch.zeros(1, self.hidden_size)"
      ],
      "execution_count": 0,
      "outputs": []
    },
    {
      "cell_type": "code",
      "metadata": {
        "id": "37yzmOkx7QrO",
        "colab_type": "code",
        "colab": {}
      },
      "source": [
        "import random\n",
        "\n",
        "\n",
        "# Random item from a list\n",
        "def randomChoice(l):\n",
        "    return l[random.randint(0, len(l) - 1)]\n",
        "\n",
        "\n",
        "# Get a random category and random line from that category\n",
        "def randomTrainingPair():\n",
        "    category = randomChoice(all_categories)\n",
        "    line = randomChoice(train_data[category])\n",
        "    return category, line"
      ],
      "execution_count": 0,
      "outputs": []
    },
    {
      "cell_type": "code",
      "metadata": {
        "id": "Jgczgcdi7VlW",
        "colab_type": "code",
        "colab": {}
      },
      "source": [
        "# One-hot vector for category\n",
        "def categoryTensor(category):\n",
        "    li = all_categories.index(category)\n",
        "    tensor = torch.zeros(1, n_categories)\n",
        "    tensor[0][li] = 1\n",
        "    return tensor\n",
        "\n",
        "\n",
        "# One-hot matrix of first to last letters (not including EOS) for input\n",
        "def inputTensor(line):\n",
        "    tensor = torch.zeros(len(line), 1, n_letters)\n",
        "    for li in range(len(line)):\n",
        "        letter = line[li]\n",
        "        tensor[li][0][all_letters.find(letter)] = 1\n",
        "    return tensor\n",
        "\n",
        "\n",
        "# LongTensor of second letter to end (EOS) for target\n",
        "def targetTensor(line):\n",
        "    letter_indexes = [all_letters.find(line[li]) for li in range(1, len(line))]\n",
        "    letter_indexes.append(n_letters - 1)  # EOS\n",
        "    return torch.LongTensor(letter_indexes)\n",
        "\n",
        "\n",
        "# Make category, input, and target tensors from a random category, line pair\n",
        "def randomTrainingExample():\n",
        "    category, line = randomTrainingPair()\n",
        "    category_tensor = categoryTensor(category)\n",
        "    input_line_tensor = inputTensor(line)\n",
        "    target_line_tensor = targetTensor(line)\n",
        "    return category_tensor, input_line_tensor, target_line_tensor"
      ],
      "execution_count": 0,
      "outputs": []
    },
    {
      "cell_type": "code",
      "metadata": {
        "id": "irC03S7F7VeO",
        "colab_type": "code",
        "colab": {}
      },
      "source": [
        "def train(category_tensor, input_line_tensor, target_line_tensor):\n",
        "    target_line_tensor.unsqueeze_(-1)\n",
        "    hidden = rnn.initHidden()\n",
        "\n",
        "    rnn.zero_grad()\n",
        "\n",
        "    loss = 0\n",
        "\n",
        "    for i in range(input_line_tensor.size(0)):\n",
        "        output, hidden = rnn(category_tensor, input_line_tensor[i], hidden, i)\n",
        "        l = criterion(output, target_line_tensor[i])\n",
        "        loss += l\n",
        "\n",
        "    loss.backward()\n",
        "\n",
        "    for p in rnn.parameters():\n",
        "        p.data.add_(-learning_rate, p.grad.data)\n",
        "\n",
        "    return output, loss.item() / input_line_tensor.size(0)"
      ],
      "execution_count": 0,
      "outputs": []
    },
    {
      "cell_type": "code",
      "metadata": {
        "id": "c6eX5tYZ7kdl",
        "colab_type": "code",
        "colab": {}
      },
      "source": [
        "import time\n",
        "import math\n",
        "\n",
        "\n",
        "def timeSince(since):\n",
        "    now = time.time()\n",
        "    s = now - since\n",
        "    m = math.floor(s / 60)\n",
        "    s -= m * 60\n",
        "    return '%dm %ds' % (m, s)\n",
        "\n",
        "\n",
        "# Just return an output given a line\n",
        "def evaluate(category_tensor, input_line_tensor, target_line_tensor):\n",
        "    target_line_tensor.unsqueeze_(-1)\n",
        "    hidden = rnn.initHidden()\n",
        "    loss = 0\n",
        "    for i in range(input_line_tensor.size()[0]):\n",
        "        output, hidden = rnn(category_tensor, input_line_tensor[i], hidden, i)\n",
        "        loss += criterion(output, target_line_tensor[i])\n",
        "    return output, loss.item() / input_line_tensor.size(0)"
      ],
      "execution_count": 0,
      "outputs": []
    },
    {
      "cell_type": "code",
      "metadata": {
        "id": "hqAI1M-VCsDr",
        "colab_type": "code",
        "colab": {}
      },
      "source": [
        "# n_letters"
      ],
      "execution_count": 0,
      "outputs": []
    },
    {
      "cell_type": "code",
      "metadata": {
        "id": "9naygiEv7lKF",
        "colab_type": "code",
        "outputId": "989d988c-0225-40cc-bf42-e5ddaea372a0",
        "colab": {
          "base_uri": "https://localhost:8080/",
          "height": 363
        }
      },
      "source": [
        "criterion = nn.NLLLoss()\n",
        "\n",
        "learning_rate = 0.0005\n",
        "\n",
        "n_iters = 100000\n",
        "print_every = 5000\n",
        "plot_every = 1000\n",
        "all_losses = []\n",
        "all_test_losses = []\n",
        "total_loss = 0  # Reset every plot_every iters\n",
        "\n",
        "rnn = RNN(n_letters, 128, n_letters, model = 'i')\n",
        "\n",
        "start = time.time()\n",
        "\n",
        "for iter in range(1, n_iters + 1):\n",
        "    output, loss = train(*randomTrainingExample())\n",
        "    total_loss += loss\n",
        "\n",
        "    if iter % print_every == 0:\n",
        "        print('%s (%d %d%%) %.4f' % (timeSince(start), iter, iter / n_iters * 100, loss))\n",
        "\n",
        "    if iter % plot_every == 0:\n",
        "        all_losses.append(total_loss / plot_every)\n",
        "        total_loss = 0\n",
        "\n",
        "    # Compute loss based on test data\n",
        "    if iter % plot_every == 0:\n",
        "        total_test_loss = 0\n",
        "        n_test_instances = 0\n",
        "        for category in all_categories:\n",
        "            category_tensor = Variable(categoryTensor(category))\n",
        "            n_test_instances = n_test_instances + len(test_data[category])\n",
        "            for line in test_data[category]:\n",
        "                input_line_tensor = Variable(inputTensor(line))\n",
        "                target_line_tensor = Variable(targetTensor(line))\n",
        "                output, test_loss = evaluate(category_tensor, input_line_tensor, target_line_tensor)\n",
        "                total_test_loss += test_loss\n",
        "        all_test_losses.append(total_test_loss / n_test_instances)\n"
      ],
      "execution_count": 0,
      "outputs": [
        {
          "output_type": "stream",
          "text": [
            "0m 30s (5000 5%) 2.6977\n",
            "1m 5s (10000 10%) 2.6853\n",
            "1m 39s (15000 15%) 3.0085\n",
            "2m 14s (20000 20%) 2.8737\n",
            "2m 49s (25000 25%) 1.5873\n",
            "3m 26s (30000 30%) 1.9545\n",
            "4m 0s (35000 35%) 1.0807\n",
            "4m 35s (40000 40%) 2.6141\n",
            "5m 9s (45000 45%) 2.5919\n",
            "5m 44s (50000 50%) 2.2668\n",
            "6m 19s (55000 55%) 2.1295\n",
            "6m 53s (60000 60%) 2.8306\n",
            "7m 28s (65000 65%) 3.7093\n",
            "8m 3s (70000 70%) 1.9835\n",
            "8m 38s (75000 75%) 2.3006\n",
            "9m 12s (80000 80%) 2.4155\n",
            "9m 47s (85000 85%) 2.1788\n",
            "10m 22s (90000 90%) 1.9486\n",
            "10m 56s (95000 95%) 2.2837\n",
            "11m 31s (100000 100%) 2.3753\n"
          ],
          "name": "stdout"
        }
      ]
    },
    {
      "cell_type": "code",
      "metadata": {
        "id": "LJeS6vm46s6g",
        "colab_type": "code",
        "outputId": "24254fd7-1aac-4934-aa0c-329fe4a1e950",
        "colab": {
          "base_uri": "https://localhost:8080/",
          "height": 287
        }
      },
      "source": [
        "import matplotlib.pyplot as plt\n",
        "import matplotlib.ticker as ticker\n",
        "\n",
        "plt.figure()\n",
        "plt.plot(all_test_losses)"
      ],
      "execution_count": 0,
      "outputs": [
        {
          "output_type": "execute_result",
          "data": {
            "text/plain": [
              "[<matplotlib.lines.Line2D at 0x7fd86f3ca9e8>]"
            ]
          },
          "metadata": {
            "tags": []
          },
          "execution_count": 10
        },
        {
          "output_type": "display_data",
          "data": {
            "image/png": "[encoded data removed]",
            "text/plain": [
              "<Figure size 432x288 with 1 Axes>"
            ]
          },
          "metadata": {
            "tags": []
          }
        }
      ]
    },
    {
      "cell_type": "code",
      "metadata": {
        "id": "7K3ka8u3BNmP",
        "colab_type": "code",
        "outputId": "fc900111-43fc-49c7-945a-94db6ce4acc3",
        "colab": {
          "base_uri": "https://localhost:8080/",
          "height": 363
        }
      },
      "source": [
        "criterion = nn.NLLLoss()\n",
        "\n",
        "learning_rate = 0.0005\n",
        "\n",
        "n_iters = 100000\n",
        "print_every = 5000\n",
        "plot_every = 1000\n",
        "all_ii_losses = []\n",
        "all_ii_test_losses = []\n",
        "total_ii_loss = 0  # Reset every plot_every iters\n",
        "\n",
        "rnn = RNN(n_letters, 128, n_letters, model = 'ii')\n",
        "\n",
        "start = time.time()\n",
        "\n",
        "for iter in range(1, n_iters + 1):\n",
        "    output, loss = train(*randomTrainingExample())\n",
        "    total_ii_loss += loss\n",
        "\n",
        "    if iter % print_every == 0:\n",
        "        print('%s (%d %d%%) %.4f' % (timeSince(start), iter, iter / n_iters * 100, loss))\n",
        "\n",
        "    if iter % plot_every == 0:\n",
        "        all_ii_losses.append(total_ii_loss / plot_every)\n",
        "        total_ii_loss = 0\n",
        "\n",
        "    # Compute loss based on test data\n",
        "    if iter % plot_every == 0:\n",
        "        total_test_loss = 0\n",
        "        n_test_instances = 0\n",
        "        for category in all_categories:\n",
        "            category_tensor = Variable(categoryTensor(category))\n",
        "            n_test_instances = n_test_instances + len(test_data[category])\n",
        "            for line in test_data[category]:\n",
        "                input_line_tensor = Variable(inputTensor(line))\n",
        "                target_line_tensor = Variable(targetTensor(line))\n",
        "                output, test_loss = evaluate(category_tensor, input_line_tensor, target_line_tensor)\n",
        "                total_test_loss += test_loss\n",
        "        all_ii_test_losses.append(total_test_loss / n_test_instances)\n"
      ],
      "execution_count": 0,
      "outputs": [
        {
          "output_type": "stream",
          "text": [
            "0m 30s (5000 5%) 3.1607\n",
            "1m 5s (10000 10%) 3.0177\n",
            "1m 40s (15000 15%) 2.3961\n",
            "2m 15s (20000 20%) 2.8960\n",
            "2m 50s (25000 25%) 3.0856\n",
            "3m 25s (30000 30%) 2.9540\n",
            "4m 0s (35000 35%) 2.3215\n",
            "4m 35s (40000 40%) 3.3991\n",
            "5m 10s (45000 45%) 2.9580\n",
            "5m 44s (50000 50%) 2.6410\n",
            "6m 19s (55000 55%) 2.8246\n",
            "7m 1s (60000 60%) 1.9611\n",
            "7m 42s (65000 65%) 2.4910\n",
            "8m 24s (70000 70%) 1.6640\n",
            "9m 5s (75000 75%) 2.2990\n",
            "9m 47s (80000 80%) 2.3277\n",
            "10m 28s (85000 85%) 2.6544\n",
            "11m 10s (90000 90%) 2.5313\n",
            "11m 51s (95000 95%) 2.8007\n",
            "12m 33s (100000 100%) 3.2826\n"
          ],
          "name": "stdout"
        }
      ]
    },
    {
      "cell_type": "code",
      "metadata": {
        "id": "2l1M76oNqFx0",
        "colab_type": "code",
        "outputId": "08dd8fe3-f7ab-43a9-bba8-e3ecd41f49f6",
        "colab": {
          "base_uri": "https://localhost:8080/",
          "height": 287
        }
      },
      "source": [
        "plt.figure()\n",
        "plt.plot(all_ii_test_losses)"
      ],
      "execution_count": 0,
      "outputs": [
        {
          "output_type": "execute_result",
          "data": {
            "text/plain": [
              "[<matplotlib.lines.Line2D at 0x7fd863f91da0>]"
            ]
          },
          "metadata": {
            "tags": []
          },
          "execution_count": 12
        },
        {
          "output_type": "display_data",
          "data": {
            "image/png": "[encoded data removed]",
            "text/plain": [
              "<Figure size 432x288 with 1 Axes>"
            ]
          },
          "metadata": {
            "tags": []
          }
        }
      ]
    },
    {
      "cell_type": "code",
      "metadata": {
        "id": "dHT7cmVzqHR6",
        "colab_type": "code",
        "outputId": "52bc248e-d1ed-4997-9cbe-4f421a0e9fc2",
        "colab": {
          "base_uri": "https://localhost:8080/",
          "height": 363
        }
      },
      "source": [
        "criterion = nn.NLLLoss()\n",
        "\n",
        "learning_rate = 0.0005\n",
        "\n",
        "n_iters = 100000\n",
        "print_every = 5000\n",
        "plot_every = 1000\n",
        "all_iii_losses = []\n",
        "all_iii_test_losses = []\n",
        "total_iii_loss = 0  # Reset every plot_every iters\n",
        "\n",
        "rnn = RNN(n_letters, 128, n_letters, model = 'iii')\n",
        "\n",
        "start = time.time()\n",
        "\n",
        "for iter in range(1, n_iters + 1):\n",
        "    output, loss = train(*randomTrainingExample())\n",
        "    total_iii_loss += loss\n",
        "\n",
        "    if iter % print_every == 0:\n",
        "        print('%s (%d %d%%) %.4f' % (timeSince(start), iter, iter / n_iters * 100, loss))\n",
        "\n",
        "    if iter % plot_every == 0:\n",
        "        all_iii_losses.append(total_iii_loss / plot_every)\n",
        "        total_iii_loss = 0\n",
        "\n",
        "    # Compute loss based on test data\n",
        "    if iter % plot_every == 0:\n",
        "        total_test_loss = 0\n",
        "        n_test_instances = 0\n",
        "        for category in all_categories:\n",
        "            category_tensor = Variable(categoryTensor(category))\n",
        "            n_test_instances = n_test_instances + len(test_data[category])\n",
        "            for line in test_data[category]:\n",
        "                input_line_tensor = Variable(inputTensor(line))\n",
        "                target_line_tensor = Variable(targetTensor(line))\n",
        "                output, test_loss = evaluate(category_tensor, input_line_tensor, target_line_tensor)\n",
        "                total_test_loss += test_loss\n",
        "        all_iii_test_losses.append(total_test_loss / n_test_instances)\n"
      ],
      "execution_count": 0,
      "outputs": [
        {
          "output_type": "stream",
          "text": [
            "0m 29s (5000 5%) 3.2777\n",
            "1m 3s (10000 10%) 2.6023\n",
            "1m 37s (15000 15%) 2.8694\n",
            "2m 11s (20000 20%) 2.7161\n",
            "2m 45s (25000 25%) 2.4837\n",
            "3m 19s (30000 30%) 2.2297\n",
            "3m 53s (35000 35%) 2.2747\n",
            "4m 27s (40000 40%) 2.1102\n",
            "5m 1s (45000 45%) 2.1946\n",
            "5m 35s (50000 50%) 2.6417\n",
            "6m 9s (55000 55%) 2.6153\n",
            "6m 43s (60000 60%) 2.2182\n",
            "7m 17s (65000 65%) 3.1524\n",
            "7m 50s (70000 70%) 3.1695\n",
            "8m 24s (75000 75%) 3.3533\n",
            "8m 58s (80000 80%) 1.8057\n",
            "9m 32s (85000 85%) 2.0535\n",
            "10m 6s (90000 90%) 3.3868\n",
            "10m 40s (95000 95%) 1.5913\n",
            "11m 14s (100000 100%) 2.8282\n"
          ],
          "name": "stdout"
        }
      ]
    },
    {
      "cell_type": "code",
      "metadata": {
        "id": "mzoxcvCfqHJT",
        "colab_type": "code",
        "outputId": "baa3c1db-3009-4246-85f8-011f32357aaa",
        "colab": {
          "base_uri": "https://localhost:8080/",
          "height": 287
        }
      },
      "source": [
        "plt.figure()\n",
        "plt.plot(all_iii_test_losses)"
      ],
      "execution_count": 0,
      "outputs": [
        {
          "output_type": "execute_result",
          "data": {
            "text/plain": [
              "[<matplotlib.lines.Line2D at 0x7fd863f72be0>]"
            ]
          },
          "metadata": {
            "tags": []
          },
          "execution_count": 14
        },
        {
          "output_type": "display_data",
          "data": {
            "image/png": "[encoded data removed]",
            "text/plain": [
              "<Figure size 432x288 with 1 Axes>"
            ]
          },
          "metadata": {
            "tags": []
          }
        }
      ]
    },
    {
      "cell_type": "code",
      "metadata": {
        "id": "VZHf61Q5qHBt",
        "colab_type": "code",
        "outputId": "a3bb8d73-41e3-439a-f9ca-e446eacf98e8",
        "colab": {
          "base_uri": "https://localhost:8080/",
          "height": 363
        }
      },
      "source": [
        "criterion = nn.NLLLoss()\n",
        "\n",
        "learning_rate = 0.0005\n",
        "\n",
        "n_iters = 100000\n",
        "print_every = 5000\n",
        "plot_every = 1000\n",
        "all_iv_losses = []\n",
        "all_iv_test_losses = []\n",
        "total_iv_loss = 0  # Reset every plot_every iters\n",
        "\n",
        "rnn = RNN(n_letters, 128, n_letters, model = 'iv')\n",
        "\n",
        "start = time.time()\n",
        "\n",
        "for iter in range(1, n_iters + 1):\n",
        "    output, loss = train(*randomTrainingExample())\n",
        "    total_iv_loss += loss\n",
        "\n",
        "    if iter % print_every == 0:\n",
        "        print('%s (%d %d%%) %.4f' % (timeSince(start), iter, iter / n_iters * 100, loss))\n",
        "\n",
        "    if iter % plot_every == 0:\n",
        "        all_iv_losses.append(total_iv_loss / plot_every)\n",
        "        total_iv_loss = 0\n",
        "\n",
        "    # Compute loss based on test data\n",
        "    if iter % plot_every == 0:\n",
        "        total_test_loss = 0\n",
        "        n_test_instances = 0\n",
        "        for category in all_categories:\n",
        "            category_tensor = Variable(categoryTensor(category))\n",
        "            n_test_instances = n_test_instances + len(test_data[category])\n",
        "            for line in test_data[category]:\n",
        "                input_line_tensor = Variable(inputTensor(line))\n",
        "                target_line_tensor = Variable(targetTensor(line))\n",
        "                output, test_loss = evaluate(category_tensor, input_line_tensor, target_line_tensor)\n",
        "                total_test_loss += test_loss\n",
        "        all_iv_test_losses.append(total_test_loss / n_test_instances)\n"
      ],
      "execution_count": 0,
      "outputs": [
        {
          "output_type": "stream",
          "text": [
            "0m 28s (5000 5%) 3.1543\n",
            "1m 1s (10000 10%) 2.3746\n",
            "1m 34s (15000 15%) 3.1440\n",
            "2m 7s (20000 20%) 3.4446\n",
            "2m 40s (25000 25%) 2.5206\n",
            "3m 13s (30000 30%) 2.8696\n",
            "3m 46s (35000 35%) 3.2555\n",
            "4m 19s (40000 40%) 2.8708\n",
            "4m 52s (45000 45%) 2.6958\n",
            "5m 25s (50000 50%) 2.6104\n",
            "5m 58s (55000 55%) 2.2510\n",
            "6m 30s (60000 60%) 3.6989\n",
            "7m 3s (65000 65%) 2.6142\n",
            "7m 36s (70000 70%) 1.6238\n",
            "8m 9s (75000 75%) 3.4367\n",
            "8m 42s (80000 80%) 2.0834\n",
            "9m 15s (85000 85%) 2.6988\n",
            "9m 48s (90000 90%) 3.1654\n",
            "10m 22s (95000 95%) 2.7276\n",
            "10m 55s (100000 100%) 2.9576\n"
          ],
          "name": "stdout"
        }
      ]
    },
    {
      "cell_type": "code",
      "metadata": {
        "id": "ogj3KsTDqG66",
        "colab_type": "code",
        "outputId": "a7de834c-fa69-4116-dac6-aa102ce4006c",
        "colab": {
          "base_uri": "https://localhost:8080/",
          "height": 287
        }
      },
      "source": [
        "plt.figure()\n",
        "plt.plot(all_iv_test_losses)"
      ],
      "execution_count": 0,
      "outputs": [
        {
          "output_type": "execute_result",
          "data": {
            "text/plain": [
              "[<matplotlib.lines.Line2D at 0x7fd863ed8d68>]"
            ]
          },
          "metadata": {
            "tags": []
          },
          "execution_count": 16
        },
        {
          "output_type": "display_data",
          "data": {
            "image/png": "[encoded data removed]",
            "text/plain": [
              "<Figure size 432x288 with 1 Axes>"
            ]
          },
          "metadata": {
            "tags": []
          }
        }
      ]
    },
    {
      "cell_type": "code",
      "metadata": {
        "id": "WiEXbjCXq149",
        "colab_type": "code",
        "outputId": "bd048119-f714-406a-cdaa-945d18ffee6c",
        "colab": {
          "base_uri": "https://localhost:8080/",
          "height": 329
        }
      },
      "source": [
        "plt.plot(all_test_losses,'b',label='I')\n",
        "plt.plot(all_ii_test_losses,'g',label='II')\n",
        "plt.plot(all_iii_test_losses,'r',label='III')\n",
        "plt.plot(all_iv_test_losses,'y',label='IV')\n",
        "\n",
        "plt.title('NLL vs Iterations')\n",
        "plt.xlabel(\"Iterations per thousands\")\n",
        "plt.ylabel(\"NLL\")\n",
        "plt.legend()\n",
        "plt.savefig(\"Feeding_inputs_graph.png\")\n",
        "plt.figure()\n"
      ],
      "execution_count": 19,
      "outputs": [
        {
          "output_type": "execute_result",
          "data": {
            "text/plain": [
              "<Figure size 432x288 with 0 Axes>"
            ]
          },
          "metadata": {
            "tags": []
          },
          "execution_count": 19
        },
        {
          "output_type": "display_data",
          "data": {
            "image/png": "[encoded data removed]",
            "text/plain": [
              "<Figure size 432x288 with 1 Axes>"
            ]
          },
          "metadata": {
            "tags": []
          }
        },
        {
          "output_type": "display_data",
          "data": {
            "text/plain": [
              "<Figure size 432x288 with 0 Axes>"
            ]
          },
          "metadata": {
            "tags": []
          }
        }
      ]
    },
    {
      "cell_type": "code",
      "metadata": {
        "id": "1N2EpG4M-CBj",
        "colab_type": "code",
        "colab": {}
      },
      "source": [
        ""
      ],
      "execution_count": 0,
      "outputs": []
    }
  ]
}