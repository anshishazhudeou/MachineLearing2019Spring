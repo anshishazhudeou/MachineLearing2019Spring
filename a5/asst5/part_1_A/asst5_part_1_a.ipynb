{
  "nbformat": 4,
  "nbformat_minor": 0,
  "metadata": {
    "colab": {
      "name": "asst5_part_1_a.ipynb",
      "version": "0.3.2",
      "provenance": []
    },
    "kernelspec": {
      "name": "python3",
      "display_name": "Python 3"
    },
    "accelerator": "GPU"
  },
  "cells": [
    {
      "cell_type": "code",
      "metadata": {
        "id": "AiUEJF0WUbVS",
        "colab_type": "code",
        "outputId": "09f2f7fd-f7a6-414d-d330-2823367befd5",
        "colab": {
          "base_uri": "https://localhost:8080/",
          "height": 202
        }
      },
      "source": [
        "!wget https://download.pytorch.org/tutorial/data.zip"
      ],
      "execution_count": 0,
      "outputs": [
        {
          "output_type": "stream",
          "text": [
            "--2019-07-28 05:18:55--  https://download.pytorch.org/tutorial/data.zip\n",
            "Resolving download.pytorch.org (download.pytorch.org)... 13.226.15.32, 13.226.15.53, 13.226.15.43, ...\n",
            "Connecting to download.pytorch.org (download.pytorch.org)|13.226.15.32|:443... connected.\n",
            "HTTP request sent, awaiting response... 200 OK\n",
            "Length: 2882130 (2.7M) [application/zip]\n",
            "Saving to: ‘data.zip.1’\n",
            "\n",
            "\rdata.zip.1            0%[                    ]       0  --.-KB/s               \rdata.zip.1          100%[===================>]   2.75M  16.6MB/s    in 0.2s    \n",
            "\n",
            "2019-07-28 05:18:55 (16.6 MB/s) - ‘data.zip.1’ saved [2882130/2882130]\n",
            "\n"
          ],
          "name": "stdout"
        }
      ]
    },
    {
      "cell_type": "code",
      "metadata": {
        "id": "kS8Y6N6dUkuB",
        "colab_type": "code",
        "outputId": "7ab22cb1-3405-4465-837e-52ecb0236aff",
        "colab": {
          "base_uri": "https://localhost:8080/",
          "height": 63
        }
      },
      "source": [
        "!unzip data.zip"
      ],
      "execution_count": 0,
      "outputs": [
        {
          "output_type": "stream",
          "text": [
            "Archive:  data.zip\n",
            "replace data/eng-fra.txt? [y]es, [n]o, [A]ll, [N]one, [r]ename: "
          ],
          "name": "stdout"
        }
      ]
    },
    {
      "cell_type": "code",
      "metadata": {
        "id": "j0dDkiCZUnXD",
        "colab_type": "code",
        "colab": {}
      },
      "source": [
        "%matplotlib inline\n",
        "from __future__ import unicode_literals, print_function, division\n",
        "from io import open\n",
        "import glob\n",
        "import os\n",
        "import random\n",
        "\n",
        "import unicodedata\n",
        "import string\n",
        "import math"
      ],
      "execution_count": 0,
      "outputs": []
    },
    {
      "cell_type": "code",
      "metadata": {
        "id": "7aCSdXioUsiv",
        "colab_type": "code",
        "colab": {}
      },
      "source": [
        "def findFiles(path): return glob.glob(path)\n",
        "\n",
        "\n",
        "all_letters = string.ascii_letters + \" .,;'\"\n",
        "n_letters = len(all_letters)\n",
        "\n",
        "def unicodeToAscii(s):\n",
        "    return ''.join(\n",
        "        c for c in unicodedata.normalize('NFD', s)\n",
        "        if unicodedata.category(c) != 'Mn'\n",
        "        and c in all_letters\n",
        "    )"
      ],
      "execution_count": 0,
      "outputs": []
    },
    {
      "cell_type": "code",
      "metadata": {
        "id": "T99cpchfU4Ug",
        "colab_type": "code",
        "colab": {}
      },
      "source": [
        "category_lines = {}\n",
        "train_data = {}\n",
        "test_data = {}\n",
        "all_categories = []\n",
        "\n",
        "\n",
        "# Read a file and split into lines\n",
        "def readLines(filename):\n",
        "    lines = open(filename, encoding='utf-8').read().strip().split('\\n')\n",
        "    return [unicodeToAscii(line) for line in lines]\n",
        "\n",
        "\n",
        "for filename in findFiles('data/names/*.txt'):\n",
        "    category = os.path.splitext(os.path.basename(filename))[0]\n",
        "    all_categories.append(category)\n",
        "    lines = readLines(filename)\n",
        "    random.shuffle(lines)\n",
        "    train_data[category] = lines[0:int(math.floor(0.8 * len(lines)))]\n",
        "    test_data[category] = lines[int(math.floor(0.8 * len(lines))) + 1:]\n",
        "    category_lines[category] = lines\n",
        "\n",
        "n_categories = len(all_categories)"
      ],
      "execution_count": 0,
      "outputs": []
    },
    {
      "cell_type": "code",
      "metadata": {
        "id": "dUF-mlhyU50L",
        "colab_type": "code",
        "colab": {}
      },
      "source": [
        "import torch\n",
        "\n",
        "\n",
        "# Find letter index from all_letters, e.g. \"a\" = 0\n",
        "def letterToIndex(letter):\n",
        "    return all_letters.find(letter)\n",
        "\n",
        "\n",
        "# Just for demonstration, turn a letter into a <1 x n_letters> Tensor\n",
        "def letterToTensor(letter):\n",
        "    tensor = torch.zeros(1, n_letters)\n",
        "    tensor[0][letterToIndex(letter)] = 1\n",
        "    return tensor\n",
        "\n",
        "\n",
        "# Turn a line into a <line_length x 1 x n_letters>,\n",
        "# or an array of one-hot letter vectors\n",
        "def lineToTensor(line):\n",
        "    tensor = torch.zeros(len(line), 1, n_letters)\n",
        "    for li, letter in enumerate(line):\n",
        "        tensor[li][0][letterToIndex(letter)] = 1\n",
        "    return tensor"
      ],
      "execution_count": 0,
      "outputs": []
    },
    {
      "cell_type": "code",
      "metadata": {
        "id": "Hjrh3iN7VI5p",
        "colab_type": "code",
        "colab": {}
      },
      "source": [
        "import torch\n",
        "import torch.nn as nn\n",
        "from torch.autograd import Variable\n",
        "\n",
        "class RNN(nn.Module):\n",
        "  def __init__(self, input_size, hidden_size, output_size, model=\"linear\", n_layers=1):\n",
        "    super(RNN, self).__init__()\n",
        "    self.model = model.lower()\n",
        "    self.hidden_size = hidden_size\n",
        "    self.n_layers = n_layers\n",
        "\n",
        "\n",
        "    if self.model == \"gru\":\n",
        "      self.rnn = nn.GRU(input_size, hidden_size, n_layers)\n",
        "      self.decoder = nn.Linear(hidden_size, output_size)\n",
        "    elif self.model == \"lstm\":\n",
        "      self.rnn = nn.LSTM(input_size, hidden_size, n_layers)\n",
        "      self.decoder = nn.Linear(hidden_size, output_size)\n",
        "    else:\n",
        "      self.i2h = nn.Linear(input_size + hidden_size, hidden_size)\n",
        "      self.i2o = nn.Linear(input_size + hidden_size, output_size)\n",
        "\n",
        "    self.softmax = nn.LogSoftmax(dim=1)\n",
        "\n",
        "  def forward(self, input, hidden):\n",
        "    \n",
        "    if self.model == 'gru' or self.model == 'lstm':\n",
        "      output, hidden = self.rnn(input.view(1, 1, -1), hidden)\n",
        "      output = self.decoder(output.view(1, -1))\n",
        "      output = self.softmax(output)\n",
        "      return output, hidden\n",
        "    else:\n",
        "      combined = torch.cat((input, hidden), 1)\n",
        "      hidden = self.i2h(combined)\n",
        "      output = self.i2o(combined)\n",
        "      output = self.softmax(output)\n",
        "      return output, hidden\n",
        "\n",
        "  def initHidden(self, batch_size):\n",
        "    if self.model == \"lstm\":\n",
        "      return (Variable(torch.zeros(self.n_layers, batch_size, self.hidden_size)),\n",
        "                    Variable(torch.zeros(self.n_layers, batch_size, self.hidden_size)))\n",
        "    elif self.model == \"gru\":\n",
        "      return Variable(torch.zeros(self.n_layers, batch_size, self.hidden_size))\n",
        "    else:\n",
        "      return torch.zeros(1, self.hidden_size)"
      ],
      "execution_count": 0,
      "outputs": []
    },
    {
      "cell_type": "code",
      "metadata": {
        "id": "hRSr8r9bX-fv",
        "colab_type": "code",
        "colab": {}
      },
      "source": [
        "import random\n",
        "import time\n",
        "import math\n",
        "\n",
        "def categoryFromOutput(output):\n",
        "    top_n, top_i = output.topk(1)\n",
        "    category_i = top_i[0].item()\n",
        "    return all_categories[category_i], category_i\n",
        "\n",
        "def randomChoice(l):\n",
        "    return l[random.randint(0, len(l) - 1)]\n",
        "\n",
        "\n",
        "def randomTrainingExample():\n",
        "    category = randomChoice(all_categories)\n",
        "    line = randomChoice(train_data[category])\n",
        "    category_tensor = torch.tensor([all_categories.index(category)], dtype=torch.long)\n",
        "    line_tensor = lineToTensor(line)\n",
        "    return category, line, category_tensor, line_tensor  \n",
        "\n",
        "def timeSince(since):\n",
        "    now = time.time()\n",
        "    s = now - since\n",
        "    m = math.floor(s / 60)\n",
        "    s -= m * 60\n",
        "    return '%dm %ds' % (m, s)\n",
        "\n",
        "\n",
        "# Just return an output given a line\n",
        "def evaluate(line_tensor):\n",
        "    hidden = rnn.initHidden(1)\n",
        "    for i in range(line_tensor.size()[0]):\n",
        "        output, hidden = rnn(line_tensor[i], hidden)\n",
        "    return output"
      ],
      "execution_count": 0,
      "outputs": []
    },
    {
      "cell_type": "code",
      "metadata": {
        "id": "oO0EKMnFYJCu",
        "colab_type": "code",
        "colab": {}
      },
      "source": [
        "criterion = nn.NLLLoss()\n",
        "\n",
        "learning_rate = 0.005  # If you set this too high, it might explode. If too low, it might not learn\n",
        "\n",
        "\n",
        "def train(category_tensor, line_tensor):\n",
        "    hidden = rnn.initHidden(1)\n",
        "#     print(hidden.shape)\n",
        "\n",
        "    rnn.zero_grad()\n",
        "\n",
        "    for i in range(line_tensor.size()[0]):\n",
        "#         print(hidden.shape)\n",
        "        output, hidden = rnn(line_tensor[i], hidden)\n",
        "\n",
        "    loss = criterion(output, category_tensor)\n",
        "    loss.backward()\n",
        "\n",
        "    # Add parameters' gradients to their values, multiplied by learning rate\n",
        "    for p in rnn.parameters():\n",
        "        p.data.add_(-learning_rate, p.grad.data)\n",
        "\n",
        "    return output, loss.item()"
      ],
      "execution_count": 0,
      "outputs": []
    },
    {
      "cell_type": "code",
      "metadata": {
        "id": "MzI3dOxDcBBX",
        "colab_type": "code",
        "outputId": "30228869-37fc-435d-9938-d1ae5fb1595d",
        "colab": {
          "base_uri": "https://localhost:8080/",
          "height": 353
        }
      },
      "source": [
        "n_hidden = 128\n",
        "rnn = RNN(n_letters, n_hidden, n_categories, 'lstm')\n",
        "\n",
        "start = time.time()\n",
        "\n",
        "# Keep track of losses for plotting\n",
        "n_iters = 100000\n",
        "print_every = 5000\n",
        "plot_every = 1000 \n",
        "\n",
        "current_lstm_loss = 0\n",
        "all_lstm_losses = []\n",
        "all_lstm_test_losses = []\n",
        "\n",
        "for iter in range(1, n_iters + 1):\n",
        "    category, line, category_tensor, line_tensor = randomTrainingExample()\n",
        "    output, loss = train(category_tensor, line_tensor)\n",
        "    current_lstm_loss += loss\n",
        "\n",
        "    # Print iter number, loss, name and guess\n",
        "    if iter % print_every == 0:\n",
        "        guess, guess_i = categoryFromOutput(output)\n",
        "        correct = 'âœ“' if guess == category else 'âœ— (%s)' % category\n",
        "        print(\n",
        "            '%d %d%% (%s) %.4f %s / %s %s' % (iter, iter / n_iters * 100, timeSince(start), loss, line, guess, correct))\n",
        "\n",
        "    # Add current loss avg to list of losses\n",
        "    if iter % plot_every == 0:\n",
        "        all_lstm_losses.append(current_lstm_loss / plot_every)\n",
        "        current_lstm_loss = 0\n",
        "\n",
        "    # Compute loss based on test data\n",
        "    if iter % plot_every == 0:\n",
        "        test_loss = 0\n",
        "        n_test_instances = 0\n",
        "        for category in all_categories:\n",
        "            category_tensor = Variable(torch.LongTensor([all_categories.index(category)]))\n",
        "            n_test_instances = n_test_instances + len(test_data[category])\n",
        "            for line in test_data[category]:\n",
        "                line_tensor = Variable(lineToTensor(line))\n",
        "                output = evaluate(line_tensor)\n",
        "                test_loss = test_loss + criterion(output, category_tensor)\n",
        "        all_lstm_test_losses.append(test_loss.item() / n_test_instances)"
      ],
      "execution_count": 0,
      "outputs": [
        {
          "output_type": "stream",
          "text": [
            "5000 5% (0m 41s) 2.8728 Kerr / English âœ— (Scottish)\n",
            "10000 10% (1m 28s) 2.8538 Smolak / English âœ— (Polish)\n",
            "15000 15% (2m 16s) 2.6226 Kouches / Greek âœ“\n",
            "20000 20% (3m 4s) 2.9468 Colbert / Dutch âœ— (French)\n",
            "25000 25% (3m 52s) 1.9941 Xuan / Korean âœ— (Chinese)\n",
            "30000 30% (4m 40s) 0.9015 Mersinias / Greek âœ“\n",
            "35000 35% (5m 28s) 2.4780 Petit / Arabic âœ— (French)\n",
            "40000 40% (6m 16s) 2.0167 Bonaventura / Spanish âœ“\n",
            "45000 45% (7m 5s) 1.2322 Ku / Chinese âœ— (Korean)\n",
            "50000 50% (7m 53s) 2.0480 Sauvageot / Irish âœ— (French)\n",
            "55000 55% (8m 40s) 2.0720 Sutherland / Irish âœ— (Scottish)\n",
            "60000 60% (9m 28s) 2.0013 Trollope / Czech âœ— (English)\n",
            "65000 65% (10m 16s) 3.2047 Eastaway / Arabic âœ— (English)\n",
            "70000 70% (11m 4s) 0.6185 Sowka / Polish âœ“\n",
            "75000 75% (11m 52s) 1.5839 Gaber / French âœ— (Arabic)\n",
            "80000 80% (12m 40s) 0.0797 Kajahara / Japanese âœ“\n",
            "85000 85% (13m 29s) 2.6326 Foster / German âœ— (English)\n",
            "90000 90% (14m 17s) 1.5875 Hor / Korean âœ— (Chinese)\n",
            "95000 95% (15m 5s) 0.9740 Motoori / Japanese âœ“\n",
            "100000 100% (15m 53s) 2.4604 Mancuso / Portuguese âœ— (Italian)\n"
          ],
          "name": "stdout"
        }
      ]
    },
    {
      "cell_type": "code",
      "metadata": {
        "id": "Dqks8Bg_pwuv",
        "colab_type": "code",
        "outputId": "d3e27593-5bf9-4165-86ba-23482eb9683e",
        "colab": {
          "base_uri": "https://localhost:8080/",
          "height": 286
        }
      },
      "source": [
        "import matplotlib.pyplot as plt\n",
        "import matplotlib.ticker as ticker\n",
        "\n",
        "plt.figure()\n",
        "plt.plot(all_lstm_test_losses)"
      ],
      "execution_count": 0,
      "outputs": [
        {
          "output_type": "execute_result",
          "data": {
            "text/plain": [
              "[<matplotlib.lines.Line2D at 0x7f67b7249978>]"
            ]
          },
          "metadata": {
            "tags": []
          },
          "execution_count": 9
        },
        {
          "output_type": "display_data",
          "data": {
            "image/png": "[encoded data removed]",
            "text/plain": [
              "<Figure size 432x288 with 1 Axes>"
            ]
          },
          "metadata": {
            "tags": []
          }
        }
      ]
    },
    {
      "cell_type": "code",
      "metadata": {
        "id": "Sb1mHcDQtU0e",
        "colab_type": "code",
        "outputId": "e6840292-f070-43c5-c498-e652ab4e7420",
        "colab": {
          "base_uri": "https://localhost:8080/",
          "height": 353
        }
      },
      "source": [
        "n_hidden = 128\n",
        "rnn = RNN(n_letters, n_hidden, n_categories, 'gru')\n",
        "\n",
        "start = time.time()\n",
        "\n",
        "# Keep track of losses for plotting\n",
        "n_iters = 100000\n",
        "print_every = 5000\n",
        "plot_every = 1000 \n",
        "\n",
        "current_gru_loss = 0\n",
        "all_gru_losses = []\n",
        "all_gru_test_losses = []\n",
        "\n",
        "for iter in range(1, n_iters + 1):\n",
        "    category, line, category_tensor, line_tensor = randomTrainingExample()\n",
        "    output, loss = train(category_tensor, line_tensor)\n",
        "    current_gru_loss += loss\n",
        "\n",
        "    # Print iter number, loss, name and guess\n",
        "    if iter % print_every == 0:\n",
        "        guess, guess_i = categoryFromOutput(output)\n",
        "        correct = 'âœ“' if guess == category else 'âœ— (%s)' % category\n",
        "        print(\n",
        "            '%d %d%% (%s) %.4f %s / %s %s' % (iter, iter / n_iters * 100, timeSince(start), loss, line, guess, correct))\n",
        "\n",
        "    # Add current loss avg to list of losses\n",
        "    if iter % plot_every == 0:\n",
        "        all_gru_losses.append(current_gru_loss / plot_every)\n",
        "        current_gru_loss = 0\n",
        "\n",
        "    # Compute loss based on test data\n",
        "    if iter % plot_every == 0:\n",
        "        test_loss = 0\n",
        "        n_test_instances = 0\n",
        "        for category in all_categories:\n",
        "            category_tensor = Variable(torch.LongTensor([all_categories.index(category)]))\n",
        "            n_test_instances = n_test_instances + len(test_data[category])\n",
        "            for line in test_data[category]:\n",
        "                line_tensor = Variable(lineToTensor(line))\n",
        "                output = evaluate(line_tensor)\n",
        "                test_loss = test_loss + criterion(output, category_tensor)\n",
        "        all_gru_test_losses.append(test_loss.item() / n_test_instances)"
      ],
      "execution_count": 0,
      "outputs": [
        {
          "output_type": "stream",
          "text": [
            "5000 5% (0m 38s) 2.7354 Sonnen / German âœ“\n",
            "10000 10% (1m 22s) 2.6803 Yau / Chinese âœ“\n",
            "15000 15% (2m 6s) 2.3456 Battaglia / Czech âœ— (Italian)\n",
            "20000 20% (2m 51s) 2.4423 Mendez / German âœ— (Spanish)\n",
            "25000 25% (3m 35s) 1.7785 Baumgartner / Dutch âœ— (German)\n",
            "30000 30% (4m 20s) 1.4633 Ra / Vietnamese âœ— (Korean)\n",
            "35000 35% (5m 4s) 1.3052 Senft / German âœ“\n",
            "40000 40% (5m 49s) 2.6230 Klineberg / Dutch âœ— (Czech)\n",
            "45000 45% (6m 34s) 1.0232 Dou / Korean âœ— (Chinese)\n",
            "50000 50% (7m 19s) 4.6409 Roig / Korean âœ— (Spanish)\n",
            "55000 55% (8m 3s) 1.1886 Albuquerque / French âœ— (Portuguese)\n",
            "60000 60% (8m 48s) 1.3549 Drago / Portuguese âœ— (Italian)\n",
            "65000 65% (9m 32s) 1.4470 Malley / Irish âœ— (English)\n",
            "70000 70% (10m 16s) 0.9852 Xiao / Chinese âœ“\n",
            "75000 75% (11m 1s) 1.1533 Touma / Japanese âœ— (Arabic)\n",
            "80000 80% (11m 46s) 0.1457 Demarchis / Greek âœ“\n",
            "85000 85% (12m 30s) 0.5685 Touma / Arabic âœ“\n",
            "90000 90% (13m 15s) 0.0963 Yoo / Korean âœ“\n",
            "95000 95% (14m 0s) 2.0056 Vodden / Dutch âœ— (English)\n",
            "100000 100% (14m 44s) 0.6413 Benesch / Czech âœ“\n"
          ],
          "name": "stdout"
        }
      ]
    },
    {
      "cell_type": "code",
      "metadata": {
        "id": "xFJHti0Btmu2",
        "colab_type": "code",
        "outputId": "35d7fbd5-9e5d-4e11-8424-ec6d32edd016",
        "colab": {
          "base_uri": "https://localhost:8080/",
          "height": 286
        }
      },
      "source": [
        "plt.figure()\n",
        "plt.plot(all_gru_test_losses)"
      ],
      "execution_count": 0,
      "outputs": [
        {
          "output_type": "execute_result",
          "data": {
            "text/plain": [
              "[<matplotlib.lines.Line2D at 0x7f67abe199e8>]"
            ]
          },
          "metadata": {
            "tags": []
          },
          "execution_count": 11
        },
        {
          "output_type": "display_data",
          "data": {
            "image/png": "[encoded data removed]",
            "text/plain": [
              "<Figure size 432x288 with 1 Axes>"
            ]
          },
          "metadata": {
            "tags": []
          }
        }
      ]
    },
    {
      "cell_type": "code",
      "metadata": {
        "id": "w5kVxgVjXsxD",
        "colab_type": "code",
        "outputId": "c4c30848-b8d8-4bdb-8382-35cad2e31694",
        "colab": {
          "base_uri": "https://localhost:8080/",
          "height": 353
        }
      },
      "source": [
        "n_hidden = 128\n",
        "rnn = RNN(n_letters, n_hidden, n_categories)\n",
        "\n",
        "start = time.time()\n",
        "\n",
        "# Keep track of losses for plotting\n",
        "n_iters = 100000\n",
        "print_every = 5000\n",
        "plot_every = 1000 \n",
        "\n",
        "current_loss = 0\n",
        "all_losses = []\n",
        "all_test_losses = []\n",
        "\n",
        "for iter in range(1, n_iters + 1):\n",
        "    category, line, category_tensor, line_tensor = randomTrainingExample()\n",
        "    output, loss = train(category_tensor, line_tensor)\n",
        "    current_loss += loss\n",
        "\n",
        "    # Print iter number, loss, name and guess\n",
        "    if iter % print_every == 0:\n",
        "        guess, guess_i = categoryFromOutput(output)\n",
        "        correct = 'âœ“' if guess == category else 'âœ— (%s)' % category\n",
        "        print(\n",
        "            '%d %d%% (%s) %.4f %s / %s %s' % (iter, iter / n_iters * 100, timeSince(start), loss, line, guess, correct))\n",
        "\n",
        "    # Add current loss avg to list of losses\n",
        "    if iter % plot_every == 0:\n",
        "        all_losses.append(current_loss / plot_every)\n",
        "        current_loss = 0\n",
        "\n",
        "    # Compute loss based on test data\n",
        "    if iter % plot_every == 0:\n",
        "        test_loss = 0\n",
        "        n_test_instances = 0\n",
        "        for category in all_categories:\n",
        "            category_tensor = Variable(torch.LongTensor([all_categories.index(category)]))\n",
        "            n_test_instances = n_test_instances + len(test_data[category])\n",
        "            for line in test_data[category]:\n",
        "                line_tensor = Variable(lineToTensor(line))\n",
        "                output = evaluate(line_tensor)\n",
        "                test_loss = test_loss + criterion(output, category_tensor)\n",
        "        all_test_losses.append(test_loss.item() / n_test_instances)"
      ],
      "execution_count": 0,
      "outputs": [
        {
          "output_type": "stream",
          "text": [
            "5000 5% (0m 14s) 2.7121 Krauss / Portuguese âœ— (German)\n",
            "10000 10% (0m 30s) 4.9621 Shel / Chinese âœ— (Russian)\n",
            "15000 15% (0m 46s) 2.5295 Adamou / Russian âœ— (Greek)\n",
            "20000 20% (1m 2s) 2.7385 Poulin / Irish âœ— (French)\n",
            "25000 25% (1m 18s) 2.0554 Souza / Czech âœ— (Portuguese)\n",
            "30000 30% (1m 34s) 1.6030 Rome / French âœ“\n",
            "35000 35% (1m 50s) 0.0407 Kawasawa / Japanese âœ“\n",
            "40000 40% (2m 6s) 2.9351 Ross / Greek âœ— (Scottish)\n",
            "45000 45% (2m 22s) 1.0973 Gaber / Arabic âœ“\n",
            "50000 50% (2m 38s) 1.3097 Del olmo / Italian âœ— (Spanish)\n",
            "55000 55% (2m 54s) 0.2065 Nakhodkin / Russian âœ“\n",
            "60000 60% (3m 11s) 1.3131 Johnston / Scottish âœ“\n",
            "65000 65% (3m 27s) 3.5788 Maas / Chinese âœ— (Dutch)\n",
            "70000 70% (3m 43s) 1.5563 Novy Novy / English âœ— (Czech)\n",
            "75000 75% (3m 59s) 0.1259 Mcdonald / Scottish âœ“\n",
            "80000 80% (4m 15s) 0.3183 Luc / Vietnamese âœ“\n",
            "85000 85% (4m 31s) 0.3939 Vuong / Vietnamese âœ“\n",
            "90000 90% (4m 47s) 1.5119 Traverse / Greek âœ— (French)\n",
            "95000 95% (5m 3s) 1.4056 Duncan / Irish âœ— (Scottish)\n",
            "100000 100% (5m 19s) 1.4871 Oliver / French âœ“\n"
          ],
          "name": "stdout"
        }
      ]
    },
    {
      "cell_type": "code",
      "metadata": {
        "id": "ScnVrDF_Yjk-",
        "colab_type": "code",
        "outputId": "4e1f007d-7f70-4872-ace0-fd4cbdf7f73b",
        "colab": {
          "base_uri": "https://localhost:8080/",
          "height": 286
        }
      },
      "source": [
        "plt.figure()\n",
        "plt.plot(all_test_losses)"
      ],
      "execution_count": 0,
      "outputs": [
        {
          "output_type": "execute_result",
          "data": {
            "text/plain": [
              "[<matplotlib.lines.Line2D at 0x7f67abd87e10>]"
            ]
          },
          "metadata": {
            "tags": []
          },
          "execution_count": 13
        },
        {
          "output_type": "display_data",
          "data": {
            "image/png": "[encoded data removed]",
            "text/plain": [
              "<Figure size 432x288 with 1 Axes>"
            ]
          },
          "metadata": {
            "tags": []
          }
        }
      ]
    },
    {
      "cell_type": "code",
      "metadata": {
        "id": "9YF9CCOwgXYC",
        "colab_type": "code",
        "outputId": "1057f5d5-c78a-4371-a51d-33e629ec5cc4",
        "colab": {
          "base_uri": "https://localhost:8080/",
          "height": 329
        }
      },
      "source": [
        "plt.plot(all_test_losses,'b',label='Linear Hidden Units')\n",
        "plt.plot(all_lstm_test_losses,'g',label='LSTM Hidden Units')\n",
        "plt.plot(all_gru_test_losses,'r',label='GRU Hidden Units')\n",
        "\n",
        "plt.title('NLL vs Iterations')\n",
        "plt.xlabel(\"Iterations per thousands\")\n",
        "plt.ylabel(\"NLL\")\n",
        "plt.legend()\n",
        "plt.savefig(\"hidden_units_graph.png\")\n",
        "plt.figure()\n"
      ],
      "execution_count": 16,
      "outputs": [
        {
          "output_type": "execute_result",
          "data": {
            "text/plain": [
              "<Figure size 432x288 with 0 Axes>"
            ]
          },
          "metadata": {
            "tags": []
          },
          "execution_count": 16
        },
        {
          "output_type": "display_data",
          "data": {
            "image/png": "[encoded data removed]",
            "text/plain": [
              "<Figure size 432x288 with 1 Axes>"
            ]
          },
          "metadata": {
            "tags": []
          }
        },
        {
          "output_type": "display_data",
          "data": {
            "text/plain": [
              "<Figure size 432x288 with 0 Axes>"
            ]
          },
          "metadata": {
            "tags": []
          }
        }
      ]
    },
    {
      "cell_type": "code",
      "metadata": {
        "id": "H9FNaJIUIgy0",
        "colab_type": "code",
        "colab": {}
      },
      "source": [
        ""
      ],
      "execution_count": 0,
      "outputs": []
    }
  ]
}