{
 "cells": [
  {
   "cell_type": "markdown",
   "metadata": {
    "colab_type": "text",
    "id": "WyWwvXXr_-Pn"
   },
   "source": [
    "## Read data"
   ]
  },
  {
   "cell_type": "code",
   "execution_count": 83,
   "metadata": {
    "colab": {},
    "colab_type": "code",
    "id": "FrG7xTGrCj4N"
   },
   "outputs": [],
   "source": [
    "# This variable is set to True if running notebook on Colab\n",
    "# Make it False if running on Jupyter\n",
    "USING_COLAB = False"
   ]
  },
  {
   "cell_type": "code",
   "execution_count": 84,
   "metadata": {
    "colab": {},
    "colab_type": "code",
    "id": "cEc-taOg_-Pp"
   },
   "outputs": [],
   "source": [
    "import numpy as np\n",
    "import matplotlib.pyplot as plt\n",
    "from sklearn.neural_network import MLPRegressor\n",
    "%matplotlib inline"
   ]
  },
  {
   "cell_type": "code",
   "execution_count": 85,
   "metadata": {
    "colab": {},
    "colab_type": "code",
    "id": "cl3XVDC5_-Pv"
   },
   "outputs": [],
   "source": [
    "if not USING_COLAB:\n",
    "  # Load cross validation folds from files\n",
    "  X_cv = []\n",
    "  y_cv = []\n",
    "\n",
    "  for i in range(10):\n",
    "      pathX = 'data/trainInput%d.csv' % (i + 1)\n",
    "      pathY = 'data/trainTarget%d.csv' % (i + 1)\n",
    "\n",
    "      X_cv.append(np.loadtxt(pathX, delimiter=','))\n",
    "      y_cv.append(np.loadtxt(pathY, delimiter=','))\n",
    "\n",
    "  X_cv = np.array(X_cv)\n",
    "  y_cv = np.expand_dims(np.array(y_cv), axis=2)\n",
    "\n",
    "  # Load test data from files\n",
    "  X_ts = np.loadtxt('data/testInput.csv', delimiter=',')\n",
    "  y_ts = np.loadtxt('data/testTarget.csv', delimiter=',').reshape(-1, 1)"
   ]
  },
  {
   "cell_type": "code",
   "execution_count": 86,
   "metadata": {
    "colab": {},
    "colab_type": "code",
    "id": "eKGrGXXb_-P0"
   },
   "outputs": [],
   "source": [
    "if USING_COLAB and not uploaded:\n",
    "  from google.colab import files\n",
    "  import io\n",
    "\n",
    "  uploaded = files.upload()"
   ]
  },
  {
   "cell_type": "code",
   "execution_count": 87,
   "metadata": {
    "colab": {},
    "colab_type": "code",
    "id": "wjNl6ZOqQWXt"
   },
   "outputs": [],
   "source": [
    "if USING_COLAB:\n",
    "  # Load cross validation folds from files\n",
    "  X_cv = []\n",
    "  y_cv = []\n",
    "\n",
    "  for i in range(10):\n",
    "      path = 'trainInput%d.csv' % (i + 1)\n",
    "\n",
    "      b = io.BytesIO(uploaded[path]).read()\n",
    "      s = str(b, 'utf-8')\n",
    "      l = [np.fromstring(row, sep=',') for row in s.split('\\n') if row]\n",
    "\n",
    "      X_cv.append(np.array(l))\n",
    "\n",
    "      path = 'trainTarget%d.csv' % (i + 1)\n",
    "\n",
    "      b = io.BytesIO(uploaded[path]).read()\n",
    "      s = str(b, 'utf-8')\n",
    "      l = [np.fromstring(row, sep=',') for row in s.split('\\n') if row]\n",
    "\n",
    "      y_cv.append(np.array(l))\n",
    "\n",
    "  X_cv = np.array(X_cv)\n",
    "  y_cv = np.array(y_cv)\n",
    "\n",
    "  # Load test data from files\n",
    "  path = 'testInput.csv'\n",
    "  b = io.BytesIO(uploaded[path]).read()\n",
    "  s = str(b, 'utf-8')\n",
    "  l = [np.fromstring(row, sep=',') for row in s.split('\\n') if row]\n",
    "  X_ts = np.array(l)\n",
    "\n",
    "  path = 'testTarget.csv'\n",
    "  b = io.BytesIO(uploaded[path]).read()\n",
    "  s = str(b, 'utf-8')\n",
    "  l = [np.fromstring(row, sep=',') for row in s.split('\\n') if row]\n",
    "  y_ts = np.array(l)"
   ]
  },
  {
   "cell_type": "code",
   "execution_count": 88,
   "metadata": {
    "colab": {
     "base_uri": "https://localhost:8080/",
     "height": 85
    },
    "colab_type": "code",
    "id": "1S9RQvN__-P7",
    "outputId": "86f6ea6c-d4bf-49ae-b022-7c4f7f55ae3d"
   },
   "outputs": [
    {
     "name": "stdout",
     "output_type": "stream",
     "text": [
      "Shape of training data: (10, 20, 2)\n",
      "Shape of training labels: (10, 20, 1)\n",
      "Shape of testing data: (128, 2)\n",
      "Shape of testing labels: (128, 1)\n"
     ]
    }
   ],
   "source": [
    "m_tr, n_tr = X_cv.shape[1:]\n",
    "m_ts, n_ts = X_ts.shape\n",
    "\n",
    "print('Shape of training data:', X_cv.shape)\n",
    "print('Shape of training labels:', y_cv.shape)\n",
    "print('Shape of testing data:', X_ts.shape)\n",
    "print('Shape of testing labels:', y_ts.shape)"
   ]
  },
  {
   "cell_type": "markdown",
   "metadata": {
    "colab_type": "text",
    "id": "jNNfy-ig_-QA"
   },
   "source": [
    "## General functions"
   ]
  },
  {
   "cell_type": "markdown",
   "metadata": {
    "colab_type": "text",
    "id": "dHiglPzOQodg"
   },
   "source": [
    "These are functions that  will be needed to run all the models."
   ]
  },
  {
   "cell_type": "code",
   "execution_count": 89,
   "metadata": {
    "colab": {},
    "colab_type": "code",
    "id": "TDg-M8Fe_-QB"
   },
   "outputs": [],
   "source": [
    "def merge_folds(X):\n",
    "    '''Combines a 3d array with the CV folds into a 2d array'''\n",
    "    k, m, n = X.shape\n",
    "    return np.copy(X).reshape(k * m, n)"
   ]
  },
  {
   "cell_type": "code",
   "execution_count": 90,
   "metadata": {
    "colab": {},
    "colab_type": "code",
    "id": "Fwa_rqJl_-QH"
   },
   "outputs": [],
   "source": [
    "def cross_validate(Model, model_params, X_cv, y_cv, K=10):\n",
    "    '''Cross validates a Model that takes parametes model_params on a CV set X_cv, y_cv with K folds'''\n",
    "    mean_error = 0\n",
    "    best_error = None\n",
    "    best_model = None\n",
    "\n",
    "    for k in range(K):\n",
    "        # Pick fold k and merge the rest\n",
    "        ts_idx = k\n",
    "        tr_idx = [i for i in range(K) if i != k]\n",
    "        \n",
    "        X_ts, y_ts = X_cv[ts_idx], y_cv[ts_idx]\n",
    "        X_tr, y_tr = merge_folds(X_cv[tr_idx,:,:]), merge_folds(y_cv[tr_idx,:,:])\n",
    "        \n",
    "        model = Model(**model_params)\n",
    "        model.fit(X_tr, y_tr)\n",
    "        \n",
    "        error = model.evaluate(X_ts, y_ts)\n",
    "        mean_error += error\n",
    "        \n",
    "        # Update best model (lowest error)\n",
    "        if best_error is None or error < best_error:\n",
    "            best_error = error \n",
    "            best_model = model\n",
    "            best_k = k\n",
    "    \n",
    "    mean_error /= K\n",
    "    \n",
    "    return mean_error, best_model"
   ]
  },
  {
   "cell_type": "code",
   "execution_count": 91,
   "metadata": {
    "colab": {},
    "colab_type": "code",
    "id": "ca_Yo5JU_-QN"
   },
   "outputs": [],
   "source": [
    "def compute_squared_error(y_pred, y_ts):\n",
    "    '''Returns the mean squared diff'''\n",
    "    diff = y_ts - y_pred\n",
    "    return float((diff * diff).mean(axis=0))"
   ]
  },
  {
   "cell_type": "code",
   "execution_count": 92,
   "metadata": {
    "colab": {},
    "colab_type": "code",
    "id": "ifxVIlja_-QT"
   },
   "outputs": [],
   "source": [
    "# Compute polynomial from x up to degree d = 4\n",
    "def nonlinear(x, deg):\n",
    "    # Linear terms\n",
    "    p = list(x)\n",
    "    \n",
    "    # Square terms\n",
    "    if deg > 1:\n",
    "        p += [\n",
    "            x[0] ** 2,\n",
    "            x[0] * x[1],\n",
    "            x[1] ** 2\n",
    "        ]\n",
    "    \n",
    "    # Cubic terms\n",
    "    if deg > 2:\n",
    "        p += [\n",
    "            x[0] ** 3,\n",
    "            x[0] ** 2 * x[1],\n",
    "            x[0] * x[1] ** 2,\n",
    "            x[1] ** 3\n",
    "         ]\n",
    "        \n",
    "    # Degree 4 terms\n",
    "    if deg > 3:\n",
    "        p += [\n",
    "            x[0] ** 4,\n",
    "            x[0] ** 3 * x[1],\n",
    "            x[0] ** 2 * x[1] ** 2,\n",
    "            x[0] * x[1] ** 3,\n",
    "            x[1] ** 4\n",
    "         ]\n",
    "    \n",
    "    return np.array(p)"
   ]
  },
  {
   "cell_type": "code",
   "execution_count": 93,
   "metadata": {
    "colab": {},
    "colab_type": "code",
    "id": "_CFw-JOz_-QZ"
   },
   "outputs": [],
   "source": [
    "def nonlinear_mat(X, deg):\n",
    "    '''Apply nonlinear(x) to each row of a matrix'''\n",
    "    f = lambda x: nonlinear(x, deg)\n",
    "    return np.apply_along_axis(f, 1, X)"
   ]
  },
  {
   "cell_type": "markdown",
   "metadata": {
    "colab_type": "text",
    "id": "MgLUWnxx_-Qh"
   },
   "source": [
    "## Question 2a: Regularized generalized linear regression"
   ]
  },
  {
   "cell_type": "code",
   "execution_count": 94,
   "metadata": {
    "colab": {},
    "colab_type": "code",
    "id": "jr0dDVhU_-Qj"
   },
   "outputs": [],
   "source": [
    "class LinearRegression:\n",
    "    def __init__(self, deg, penalty=0.5):\n",
    "        self.deg = deg\n",
    "        self.penalty = penalty\n",
    "        self.w = np.array([0])\n",
    "        \n",
    "        \n",
    "    def fit(self, X_tr, y_tr):\n",
    "        m_tr, n_tr = X_tr.shape\n",
    "        \n",
    "        # Compute monomial basis functions\n",
    "        X_pol = np.c_[np.ones(m_tr), nonlinear_mat(X_tr, self.deg)]\n",
    "        n_pol = X_pol.shape[1]\n",
    "        \n",
    "        # Find analytical solution for linear (ridge) regression\n",
    "        A = X_pol.T.dot(X_pol) + self.penalty * np.eye(n_pol)\n",
    "        b = X_pol.T.dot(y_tr)\n",
    "\n",
    "        self.w = np.linalg.inv(A).dot(b)\n",
    "        \n",
    "        return self\n",
    "    \n",
    "    def evaluate(self, X_ts, y_ts):\n",
    "        m_ts, n_ts = X_ts.shape\n",
    "        X_pol = np.c_[np.ones(m_ts), nonlinear_mat(X_ts, self.deg)]\n",
    "        y_pred = X_pol.dot(self.w)\n",
    "        return compute_squared_error(y_pred, y_ts)\n",
    "    \n",
    "    def __str__(self):\n",
    "        return 'deg: {}\\npenalty: {}\\nw: {}\\n'.format(self.deg, self.penalty, self.w)"
   ]
  },
  {
   "cell_type": "code",
   "execution_count": 95,
   "metadata": {
    "colab": {},
    "colab_type": "code",
    "id": "5zVUMWlc_-Qs"
   },
   "outputs": [
    {
     "name": "stdout",
     "output_type": "stream",
     "text": [
      "Cross validating Linear Regression of degree 1 ...\n",
      "10-fold MSE: 1.2896315184513716\n",
      "Cross validating Linear Regression of degree 2 ...\n",
      "10-fold MSE: 0.902934218546064\n",
      "Cross validating Linear Regression of degree 3 ...\n",
      "10-fold MSE: 0.06529020070861254\n",
      "Cross validating Linear Regression of degree 4 ...\n",
      "10-fold MSE: 0.05350192597447513\n"
     ]
    }
   ],
   "source": [
    "degs = [1, 2, 3, 4]\n",
    "errors = [0] * len(degs)\n",
    "models = [None] * len(degs)\n",
    "\n",
    "for i, deg in enumerate(degs):\n",
    "    print('Cross validating Linear Regression of degree', deg, '...')\n",
    "    mean_error, model = cross_validate(LinearRegression, {'deg': deg}, X_cv, y_cv)\n",
    "    models[i] = model\n",
    "    errors[i] = mean_error\n",
    "    print('10-fold MSE:', mean_error)"
   ]
  },
  {
   "cell_type": "code",
   "execution_count": 96,
   "metadata": {},
   "outputs": [],
   "source": [
    "best_idx = np.argmin(errors)\n",
    "best_model = LinearRegression(deg=degs[best_idx]).fit(merge_folds(X_cv), merge_folds(y_cv))"
   ]
  },
  {
   "cell_type": "code",
   "execution_count": 97,
   "metadata": {
    "colab": {
     "base_uri": "https://localhost:8080/",
     "height": 329
    },
    "colab_type": "code",
    "id": "koGKW0bX_-Qw",
    "outputId": "5238b80e-feb0-4b53-97c8-ccd1e56db272",
    "scrolled": false
   },
   "outputs": [
    {
     "name": "stdout",
     "output_type": "stream",
     "text": [
      "Best degree found by 10-fold CV: 4\n",
      "Squared error for the test set: 0.04461966438790373\n"
     ]
    },
    {
     "data": {
      "image/png": "[encoded data removed]",
      "text/plain": [
       "<Figure size 432x288 with 1 Axes>"
      ]
     },
     "metadata": {
      "needs_background": "light"
     },
     "output_type": "display_data"
    }
   ],
   "source": [
    "plt.plot(degs, errors)\n",
    "plt.xlabel('Degree')\n",
    "plt.ylabel('CV Mean Squared Error')\n",
    "plt.xticks(degs, degs)\n",
    "plt.title('CV Error vs Degree - Linear Regression')\n",
    "\n",
    "print('Best degree found by 10-fold CV:', degs[best_idx])\n",
    "print('Squared error for the test set:', best_model.evaluate(X_ts, y_ts))"
   ]
  },
  {
   "cell_type": "markdown",
   "metadata": {
    "colab_type": "text",
    "id": "PUwgrB8O_-Q4"
   },
   "source": [
    "## Question 2b: Bayesian generalized linear regression"
   ]
  },
  {
   "cell_type": "markdown",
   "metadata": {
    "colab_type": "text",
    "id": "7RvIBoRK_-Q5"
   },
   "source": [
    "For the given parameters, $Pr(w) = N(0, I)$ and $\\epsilon \\in N(0,1)$, bayesian regression obtains the same analytical solution as linear regression. In this case, the only difference should be in the penalty term used for bayesian (linear was asked with penalty of 0.5, while bayesian has an error variance of 1)."
   ]
  },
  {
   "cell_type": "markdown",
   "metadata": {
    "colab_type": "text",
    "id": "85thjmmY_-Q7"
   },
   "source": [
    "Consult http://krasserm.github.io/2019/02/23/bayesian-linear-regression/\n",
    "\n",
    "![image.png](attachment:image.png)"
   ]
  },
  {
   "cell_type": "code",
   "execution_count": 98,
   "metadata": {
    "colab": {},
    "colab_type": "code",
    "id": "egEvoChb_-Q8"
   },
   "outputs": [
    {
     "name": "stdout",
     "output_type": "stream",
     "text": [
      "Cross validating Bayesian Regression of degree 1 ...\n",
      "10-fold MSE: 1.2916508917701903\n",
      "Cross validating Bayesian Regression of degree 2 ...\n",
      "10-fold MSE: 0.9344670732271252\n",
      "Cross validating Bayesian Regression of degree 3 ...\n",
      "10-fold MSE: 0.06539581003321551\n",
      "Cross validating Bayesian Regression of degree 4 ...\n",
      "10-fold MSE: 0.060249502674274494\n"
     ]
    }
   ],
   "source": [
    "degs = [1, 2, 3, 4]\n",
    "errors = [0] * len(degs)\n",
    "models = [None] * len(degs)\n",
    "\n",
    "for i, deg in enumerate(degs):\n",
    "    print('Cross validating Bayesian Regression of degree', deg, '...')\n",
    "    mean_error, model = cross_validate(LinearRegression, {'deg': deg, 'penalty': 1}, X_cv, y_cv)\n",
    "    models[i] = model\n",
    "    errors[i] = mean_error\n",
    "    print('10-fold MSE:', mean_error)"
   ]
  },
  {
   "cell_type": "code",
   "execution_count": 99,
   "metadata": {
    "colab": {},
    "colab_type": "code",
    "id": "egEvoChb_-Q8"
   },
   "outputs": [],
   "source": [
    "best_idx = np.argmin(errors)\n",
    "best_model = LinearRegression(deg=degs[best_idx], penalty=1).fit(merge_folds(X_cv), merge_folds(y_cv))"
   ]
  },
  {
   "cell_type": "code",
   "execution_count": 100,
   "metadata": {
    "colab": {
     "base_uri": "https://localhost:8080/",
     "height": 329
    },
    "colab_type": "code",
    "id": "zt3_CgT-_-RB",
    "outputId": "712864ae-e768-4663-d302-a23a8cfb0e5d",
    "scrolled": false
   },
   "outputs": [
    {
     "name": "stdout",
     "output_type": "stream",
     "text": [
      "Best degree found by 10-fold CV: 4\n",
      "Squared error for the test set: 0.05044037782547301\n"
     ]
    },
    {
     "data": {
      "image/png": "[encoded data removed]",
      "text/plain": [
       "<Figure size 432x288 with 1 Axes>"
      ]
     },
     "metadata": {
      "needs_background": "light"
     },
     "output_type": "display_data"
    }
   ],
   "source": [
    "plt.plot(degs, errors)\n",
    "plt.xlabel('Degree')\n",
    "plt.ylabel('CV Mean Squared Error')\n",
    "plt.xticks(degs, degs)\n",
    "plt.title('CV Error vs Degree - Bayesian Regression')\n",
    "\n",
    "print('Best degree found by 10-fold CV:', degs[best_idx])\n",
    "print('Squared error for the test set:', best_model.evaluate(X_ts, y_ts))"
   ]
  },
  {
   "cell_type": "markdown",
   "metadata": {
    "colab_type": "text",
    "id": "-alMf5Wx_-RH"
   },
   "source": [
    "## Question 2c: Gaussian process regression"
   ]
  },
  {
   "cell_type": "code",
   "execution_count": 101,
   "metadata": {
    "colab": {},
    "colab_type": "code",
    "id": "vlZmRG8r_-RJ"
   },
   "outputs": [],
   "source": [
    "class GaussianRegression:\n",
    "    def __init__(self, kernel, sigma=1):\n",
    "        self.kernel = kernel\n",
    "        self.sigma = sigma\n",
    "        self.w = np.array([0])\n",
    "        self.X_tr = None\n",
    "        \n",
    "    def fit(self, X_tr, y_tr):\n",
    "        m_tr, n_tr = X_tr.shape\n",
    "        self.X_tr = X_tr\n",
    "\n",
    "        # Compute kernel\n",
    "        K = np.zeros((m_tr, m_tr))\n",
    "        for i in range(m_tr):\n",
    "            for j in range(m_tr):\n",
    "                K[i,j] = self.kernel(X_tr[i,:], X_tr[j,:])\n",
    "        \n",
    "        # Find solution with inverse of kernel\n",
    "        self.w = np.linalg.inv(K + np.eye(m_tr) * self.sigma ** 2).dot(y_tr)\n",
    "        \n",
    "        return self\n",
    "    \n",
    "    def evaluate(self, X_ts, y_ts):\n",
    "        m_ts, n_ts = X_ts.shape\n",
    "        m_tr = self.X_tr.shape[0]\n",
    "\n",
    "        K = np.zeros((m_ts, m_tr))\n",
    "        for i in range(m_ts):\n",
    "            for j in range(m_tr):\n",
    "                K[i,j] = self.kernel(X_ts[i,:], self.X_tr[j,:])\n",
    "        \n",
    "        y_pred = K.dot(self.w)\n",
    "        return compute_squared_error(y_pred, y_ts)"
   ]
  },
  {
   "cell_type": "markdown",
   "metadata": {
    "colab_type": "text",
    "id": "_7HO-ncKXTcz"
   },
   "source": [
    "### Identity kernel"
   ]
  },
  {
   "cell_type": "code",
   "execution_count": 102,
   "metadata": {
    "colab": {},
    "colab_type": "code",
    "id": "ufqEdfcL_-RO"
   },
   "outputs": [],
   "source": [
    "def identity_kernel(x1, x2):\n",
    "    return x1.dot(x2)"
   ]
  },
  {
   "cell_type": "code",
   "execution_count": 103,
   "metadata": {
    "colab": {
     "base_uri": "https://localhost:8080/",
     "height": 34
    },
    "colab_type": "code",
    "id": "4IIi-f_9_-RS",
    "outputId": "5ea8e00c-70e7-4025-847d-37c3c2693c6a"
   },
   "outputs": [
    {
     "name": "stdout",
     "output_type": "stream",
     "text": [
      "Squared error of identity kernel on the test set: 3.5906206854484024\n"
     ]
    }
   ],
   "source": [
    "# Create model and fit on all folds of training set\n",
    "model = GaussianRegression(identity_kernel)\n",
    "X_tr, y_tr = merge_folds(X_cv), merge_folds(y_cv)\n",
    "model.fit(X_tr, y_tr)\n",
    "print('Squared error of identity kernel on the test set:', model.evaluate(X_ts, y_ts))"
   ]
  },
  {
   "cell_type": "markdown",
   "metadata": {
    "colab_type": "text",
    "id": "7W75it4xXZRy"
   },
   "source": [
    "### Gaussian kernel"
   ]
  },
  {
   "cell_type": "code",
   "execution_count": 104,
   "metadata": {
    "colab": {},
    "colab_type": "code",
    "id": "pZYfcmCNFFQu"
   },
   "outputs": [],
   "source": [
    "def gaussian_kernel(x1, x2, sigma):\n",
    "    diff = x1 - x2\n",
    "    return np.exp(- diff.dot(diff) / (2 * sigma ** 2))"
   ]
  },
  {
   "cell_type": "code",
   "execution_count": 105,
   "metadata": {
    "colab": {},
    "colab_type": "code",
    "id": "e8bWxJm9_-Rb"
   },
   "outputs": [
    {
     "name": "stdout",
     "output_type": "stream",
     "text": [
      "Cross validating Gaussian Kernel with sigma 1 ...\n",
      "10-fold MSE: 0.5585886563460061\n",
      "Cross validating Gaussian Kernel with sigma 2 ...\n",
      "10-fold MSE: 0.09809730930517917\n",
      "Cross validating Gaussian Kernel with sigma 3 ...\n",
      "10-fold MSE: 0.06253639195940103\n",
      "Cross validating Gaussian Kernel with sigma 4 ...\n",
      "10-fold MSE: 0.05714877397538344\n",
      "Cross validating Gaussian Kernel with sigma 5 ...\n",
      "10-fold MSE: 0.06003259310807052\n",
      "Cross validating Gaussian Kernel with sigma 6 ...\n",
      "10-fold MSE: 0.07316157431717067\n"
     ]
    }
   ],
   "source": [
    "sigmas = [1, 2, 3, 4, 5, 6]\n",
    "# sigmas = [1]\n",
    "errors = [0] * len(sigmas)\n",
    "models = [None] * len(sigmas)\n",
    "\n",
    "for i, sigma in enumerate(sigmas):\n",
    "    print('Cross validating Gaussian Kernel with sigma', sigma, '...')\n",
    "    kernel = lambda x1, x2: gaussian_kernel(x1, x2, sigma)\n",
    "    mean_error, model = cross_validate(GaussianRegression, {'kernel': kernel}, X_cv, y_cv)\n",
    "    models[i] = model\n",
    "    errors[i] = mean_error\n",
    "    print('10-fold MSE:', mean_error)"
   ]
  },
  {
   "cell_type": "code",
   "execution_count": 106,
   "metadata": {
    "colab": {},
    "colab_type": "code",
    "id": "e8bWxJm9_-Rb"
   },
   "outputs": [],
   "source": [
    "best_idx = np.argmin(errors)\n",
    "kernel = lambda x1, x2: gaussian_kernel(x1, x2, sigmas[best_idx])\n",
    "best_model = GaussianRegression(kernel=kernel).fit(merge_folds(X_cv), merge_folds(y_cv))"
   ]
  },
  {
   "cell_type": "code",
   "execution_count": 107,
   "metadata": {
    "colab": {
     "base_uri": "https://localhost:8080/",
     "height": 329
    },
    "colab_type": "code",
    "id": "s6qRwSlf_-Rg",
    "outputId": "fcaeb176-30bb-4507-81e3-63ad0c5472d7",
    "scrolled": false
   },
   "outputs": [
    {
     "name": "stdout",
     "output_type": "stream",
     "text": [
      "Best sigma found by 10-fold CV: 4\n",
      "Squared error for the test set: 0.043025161668200154\n"
     ]
    },
    {
     "data": {
      "image/png": "[encoded data removed]",
      "text/plain": [
       "<Figure size 432x288 with 1 Axes>"
      ]
     },
     "metadata": {
      "needs_background": "light"
     },
     "output_type": "display_data"
    }
   ],
   "source": [
    "plt.plot(sigmas, errors)\n",
    "plt.xlabel('Sigma')\n",
    "plt.ylabel('CV Mean Squared Error')\n",
    "plt.xticks(sigmas, sigmas)\n",
    "plt.title('CV Error vs Sigma - Gaussian Kernel')\n",
    "\n",
    "print('Best sigma found by 10-fold CV:', sigmas[best_idx])\n",
    "print('Squared error for the test set:', best_model.evaluate(X_ts, y_ts))"
   ]
  },
  {
   "cell_type": "markdown",
   "metadata": {
    "colab_type": "text",
    "id": "L3mqHLPyXeO_"
   },
   "source": [
    "### Polynomial kernel"
   ]
  },
  {
   "cell_type": "code",
   "execution_count": 108,
   "metadata": {
    "colab": {},
    "colab_type": "code",
    "id": "o1-ijfsKHU5r"
   },
   "outputs": [],
   "source": [
    "def poly_kernel(x1, x2, deg):\n",
    "    return (x1.dot(x2) + 1) ** deg"
   ]
  },
  {
   "cell_type": "code",
   "execution_count": 109,
   "metadata": {
    "colab": {},
    "colab_type": "code",
    "id": "X2fXptYUHU5x"
   },
   "outputs": [
    {
     "name": "stdout",
     "output_type": "stream",
     "text": [
      "Cross validating Polynomial Kernel of degree 1 ...\n",
      "10-fold MSE: 1.2916508917705176\n",
      "Cross validating Polynomial Kernel of degree 2 ...\n",
      "10-fold MSE: 0.9336415399585011\n",
      "Cross validating Polynomial Kernel of degree 3 ...\n",
      "10-fold MSE: 0.06519886121027485\n",
      "Cross validating Polynomial Kernel of degree 4 ...\n",
      "10-fold MSE: 0.05436817912528595\n"
     ]
    }
   ],
   "source": [
    "degs = [1, 2, 3, 4]\n",
    "errors = [0] * len(degs)\n",
    "models = [None] * len(degs)\n",
    "\n",
    "for i, deg in enumerate(degs):\n",
    "    print('Cross validating Polynomial Kernel of degree', deg, '...')\n",
    "    kernel = lambda x1, x2: poly_kernel(x1, x2, deg)\n",
    "    mean_error, model = cross_validate(GaussianRegression, {'kernel': kernel}, X_cv, y_cv)\n",
    "    models[i] = model\n",
    "    errors[i] = mean_error\n",
    "    print('10-fold MSE:', mean_error)"
   ]
  },
  {
   "cell_type": "code",
   "execution_count": 110,
   "metadata": {
    "colab": {},
    "colab_type": "code",
    "id": "X2fXptYUHU5x"
   },
   "outputs": [],
   "source": [
    "best_idx = np.argmin(errors)\n",
    "kernel = lambda x1, x2: poly_kernel(x1, x2, degs[best_idx])\n",
    "best_model = GaussianRegression(kernel=kernel).fit(merge_folds(X_cv), merge_folds(y_cv));"
   ]
  },
  {
   "cell_type": "code",
   "execution_count": 111,
   "metadata": {
    "colab": {
     "base_uri": "https://localhost:8080/",
     "height": 329
    },
    "colab_type": "code",
    "id": "a3n8QPX1HU50",
    "outputId": "406bcc5d-c3f7-4267-83ec-24fa3629c3e4",
    "scrolled": false
   },
   "outputs": [
    {
     "name": "stdout",
     "output_type": "stream",
     "text": [
      "Best degree found by 10-fold CV: 4\n",
      "Squared error for the test set: 0.045768209666019403\n"
     ]
    },
    {
     "data": {
      "image/png": "[encoded data removed]",
      "text/plain": [
       "<Figure size 432x288 with 1 Axes>"
      ]
     },
     "metadata": {
      "needs_background": "light"
     },
     "output_type": "display_data"
    }
   ],
   "source": [
    "plt.plot(degs, errors)\n",
    "plt.xlabel('Degree')\n",
    "plt.ylabel('CV Mean Squared Error')\n",
    "plt.xticks(degs, degs)\n",
    "plt.title('CV Error vs Degree - Polynomial Kernel')\n",
    "\n",
    "print('Best degree found by 10-fold CV:', degs[best_idx])\n",
    "print('Squared error for the test set:', best_model.evaluate(X_ts, y_ts))"
   ]
  },
  {
   "cell_type": "markdown",
   "metadata": {},
   "source": [
    "## Question 2d: 2-layer neural network"
   ]
  },
  {
   "cell_type": "code",
   "execution_count": 112,
   "metadata": {},
   "outputs": [],
   "source": [
    "class TwoLayerMLP:\n",
    "    def __init__(self, n_hidden):\n",
    "        self.n_hidden = n_hidden\n",
    "        self.network = MLPRegressor(hidden_layer_sizes=(n_hidden,), activation='logistic')\n",
    "        \n",
    "    def fit(self, X_tr, y_tr):\n",
    "        m_tr, n_tr = X_tr.shape\n",
    "        self.network.fit(X_tr, y_tr.reshape(m_tr))\n",
    "        return self\n",
    "    \n",
    "    def evaluate(self, X_ts, y_ts):\n",
    "        y_pred = self.network.predict(X_ts).reshape(-1,1)\n",
    "        return compute_squared_error(y_pred, y_ts)"
   ]
  },
  {
   "cell_type": "code",
   "execution_count": 113,
   "metadata": {},
   "outputs": [
    {
     "name": "stdout",
     "output_type": "stream",
     "text": [
      "Cross validating Two-Layer MLP with 1 hidden units...\n"
     ]
    },
    {
     "name": "stderr",
     "output_type": "stream",
     "text": [
      "C:\\Users\\uib46186\\AppData\\Local\\Continuum\\anaconda3\\lib\\site-packages\\sklearn\\neural_network\\multilayer_perceptron.py:564: ConvergenceWarning: Stochastic Optimizer: Maximum iterations (200) reached and the optimization hasn't converged yet.\n",
      "  % self.max_iter, ConvergenceWarning)\n"
     ]
    },
    {
     "name": "stdout",
     "output_type": "stream",
     "text": [
      "10-fold MSE: 4.793576059764256\n",
      "Cross validating Two-Layer MLP with 2 hidden units...\n",
      "10-fold MSE: 4.3881450755789855\n",
      "Cross validating Two-Layer MLP with 3 hidden units...\n",
      "10-fold MSE: 4.484435645964329\n",
      "Cross validating Two-Layer MLP with 4 hidden units...\n",
      "10-fold MSE: 4.29244289342232\n",
      "Cross validating Two-Layer MLP with 5 hidden units...\n",
      "10-fold MSE: 3.991641243581662\n",
      "Cross validating Two-Layer MLP with 6 hidden units...\n",
      "10-fold MSE: 4.102106524743873\n",
      "Cross validating Two-Layer MLP with 7 hidden units...\n",
      "10-fold MSE: 3.8008287833595142\n",
      "Cross validating Two-Layer MLP with 8 hidden units...\n",
      "10-fold MSE: 3.846338908584239\n",
      "Cross validating Two-Layer MLP with 9 hidden units...\n",
      "10-fold MSE: 3.691131572105747\n",
      "Cross validating Two-Layer MLP with 10 hidden units...\n",
      "10-fold MSE: 3.5986086813747584\n"
     ]
    }
   ],
   "source": [
    "neurons = list(range(1, 11))\n",
    "errors = [0] * len(neurons)\n",
    "models = [None] * len(neurons)\n",
    "\n",
    "for i, n_hidden in enumerate(neurons):\n",
    "    print('Cross validating Two-Layer MLP with', n_hidden, 'hidden units...')\n",
    "    mean_error, model = cross_validate(TwoLayerMLP, {'n_hidden': n_hidden}, X_cv, y_cv)\n",
    "    models[i] = model\n",
    "    errors[i] = mean_error\n",
    "    print('10-fold MSE:', mean_error)"
   ]
  },
  {
   "cell_type": "code",
   "execution_count": 114,
   "metadata": {},
   "outputs": [
    {
     "name": "stderr",
     "output_type": "stream",
     "text": [
      "C:\\Users\\uib46186\\AppData\\Local\\Continuum\\anaconda3\\lib\\site-packages\\sklearn\\neural_network\\multilayer_perceptron.py:564: ConvergenceWarning: Stochastic Optimizer: Maximum iterations (200) reached and the optimization hasn't converged yet.\n",
      "  % self.max_iter, ConvergenceWarning)\n"
     ]
    }
   ],
   "source": [
    "best_idx = np.argmin(errors)\n",
    "best_model = TwoLayerMLP(n_hidden=neurons[best_idx]).fit(merge_folds(X_cv), merge_folds(y_cv))"
   ]
  },
  {
   "cell_type": "code",
   "execution_count": 115,
   "metadata": {},
   "outputs": [
    {
     "name": "stdout",
     "output_type": "stream",
     "text": [
      "Best number of hidden units found by 10-fold CV: 10\n",
      "Squared error for the test set: 3.5764586424001856\n"
     ]
    },
    {
     "data": {
      "image/png": "[encoded data removed]",
      "text/plain": [
       "<Figure size 432x288 with 1 Axes>"
      ]
     },
     "metadata": {
      "needs_background": "light"
     },
     "output_type": "display_data"
    }
   ],
   "source": [
    "plt.plot(neurons, errors)\n",
    "plt.xlabel('Neurons')\n",
    "plt.ylabel('CV Mean Squared Error')\n",
    "plt.xticks(neurons, neurons)\n",
    "plt.title('CV Error vs Number of hidden units - 2-layer MLP')\n",
    "\n",
    "print('Best number of hidden units found by 10-fold CV:', neurons[best_idx])\n",
    "print('Squared error for the test set:', models[best_idx].evaluate(X_ts, y_ts))"
   ]
  }
 ],
 "metadata": {
  "colab": {
   "name": "Regression.ipynb",
   "provenance": [],
   "version": "0.3.2"
  },
  "kernelspec": {
   "display_name": "Python 3",
   "language": "python",
   "name": "python3"
  },
  "language_info": {
   "codemirror_mode": {
    "name": "ipython",
    "version": 3
   },
   "file_extension": ".py",
   "mimetype": "text/x-python",
   "name": "python",
   "nbconvert_exporter": "python",
   "pygments_lexer": "ipython3",
   "version": "3.6.8"
  }
 },
 "nbformat": 4,
 "nbformat_minor": 1
}
