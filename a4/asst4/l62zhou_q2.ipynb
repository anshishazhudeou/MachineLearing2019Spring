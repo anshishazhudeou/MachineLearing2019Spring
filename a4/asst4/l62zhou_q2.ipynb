{
 "cells": [
  {
   "cell_type": "code",
   "execution_count": 1,
   "metadata": {},
   "outputs": [
    {
     "name": "stderr",
     "output_type": "stream",
     "text": [
      "Using TensorFlow backend.\n"
     ]
    }
   ],
   "source": [
    "import cv2\n",
    "import keras\n",
    "import numpy as np\n",
    "import matplotlib.pyplot as plt\n",
    "from keras.layers import Dense, Flatten, Conv2D, MaxPool2D\n",
    "from keras.models import Sequential\n",
    "from keras.datasets import mnist\n",
    "from keras.utils import to_categorical\n",
    "from keras.preprocessing.image import ImageDataGenerator\n",
    "\n",
    "np.random.seed(7)\n",
    "\n",
    "(train_x, train_y),(test_x, test_y) = mnist.load_data()\n",
    "\n",
    "train_x = train_x.astype('float32')/255\n",
    "test_x = test_x.astype('float32')/255"
   ]
  },
  {
   "cell_type": "markdown",
   "metadata": {},
   "source": [
    "# Add Border"
   ]
  },
  {
   "cell_type": "code",
   "execution_count": 2,
   "metadata": {},
   "outputs": [],
   "source": [
    "x_train = []\n",
    "x_test = []\n",
    "for i in train_x:\n",
    "    constant= cv2.copyMakeBorder(i,8,8,8,8,cv2.BORDER_CONSTANT,value=0)\n",
    "    x_train.append(constant)\n",
    "    \n",
    "for i in test_x:\n",
    "    constant= cv2.copyMakeBorder(i,8,8,8,8,cv2.BORDER_CONSTANT,value=0)\n",
    "    x_test.append(constant)"
   ]
  },
  {
   "cell_type": "code",
   "execution_count": 3,
   "metadata": {},
   "outputs": [
    {
     "data": {
      "text/plain": [
       "<matplotlib.image.AxesImage at 0x22eddf63f60>"
      ]
     },
     "execution_count": 3,
     "metadata": {},
     "output_type": "execute_result"
    },
    {
     "data": {
      "image/png": "[encoded data removed]",
      "text/plain": [
       "<Figure size 432x288 with 1 Axes>"
      ]
     },
     "metadata": {
      "needs_background": "light"
     },
     "output_type": "display_data"
    }
   ],
   "source": [
    "trainx = np.expand_dims(np.array(x_train),axis=-1)\n",
    "testx = np.expand_dims(np.array(x_test),axis=-1)\n",
    "\n",
    "plt.imshow(trainx[3].reshape(44,44), cmap='gray')"
   ]
  },
  {
   "cell_type": "markdown",
   "metadata": {},
   "source": [
    "# Part-A Model "
   ]
  },
  {
   "cell_type": "code",
   "execution_count": 4,
   "metadata": {},
   "outputs": [],
   "source": [
    "model = Sequential()\n",
    "model.add(Conv2D(32,(5,5),activation='relu',padding='same', input_shape=(44,44,1)))\n",
    "model.add(Flatten())\n",
    "model.add(Dense(10,activation='softmax'))\n",
    "\n",
    "model.compile(loss='sparse_categorical_crossentropy', optimizer='Adam', metrics=['accuracy'])"
   ]
  },
  {
   "cell_type": "markdown",
   "metadata": {},
   "source": [
    "# Part-B Model"
   ]
  },
  {
   "cell_type": "code",
   "execution_count": 5,
   "metadata": {},
   "outputs": [],
   "source": [
    "model1 = Sequential()\n",
    "model1.add(Conv2D(32,(5,5),activation='relu',padding='same', input_shape=(44,44,1)))\n",
    "model1.add(MaxPool2D(pool_size=(4,4),strides=4))\n",
    "model1.add(Conv2D(32,(5,5),activation='relu',padding='same'))\n",
    "model1.add(MaxPool2D(pool_size=(4,4),strides=4))\n",
    "model1.add(Flatten())\n",
    "model1.add(Dense(10,activation='softmax'))\n",
    "\n",
    "model1.compile(loss='sparse_categorical_crossentropy', optimizer='Adam', metrics=['accuracy'])"
   ]
  },
  {
   "cell_type": "markdown",
   "metadata": {},
   "source": [
    "# Training"
   ]
  },
  {
   "cell_type": "code",
   "execution_count": 6,
   "metadata": {},
   "outputs": [
    {
     "name": "stdout",
     "output_type": "stream",
     "text": [
      "Train on 60000 samples, validate on 10000 samples\n",
      "Epoch 1/20\n",
      "60000/60000 [==============================] - 14s 229us/step - loss: 0.1992 - acc: 0.9430 - val_loss: 0.0828 - val_acc: 0.9755\n",
      "Epoch 2/20\n",
      "60000/60000 [==============================] - 9s 156us/step - loss: 0.0677 - acc: 0.9799 - val_loss: 0.0619 - val_acc: 0.9809\n",
      "Epoch 3/20\n",
      "60000/60000 [==============================] - 9s 156us/step - loss: 0.0491 - acc: 0.9851 - val_loss: 0.0602 - val_acc: 0.9794\n",
      "Epoch 4/20\n",
      "60000/60000 [==============================] - 9s 155us/step - loss: 0.0384 - acc: 0.9881 - val_loss: 0.0522 - val_acc: 0.9846\n",
      "Epoch 5/20\n",
      "60000/60000 [==============================] - 9s 155us/step - loss: 0.0302 - acc: 0.9907 - val_loss: 0.0501 - val_acc: 0.9856\n",
      "Epoch 6/20\n",
      "60000/60000 [==============================] - 9s 156us/step - loss: 0.0248 - acc: 0.9922 - val_loss: 0.0497 - val_acc: 0.9853\n",
      "Epoch 7/20\n",
      "60000/60000 [==============================] - 9s 156us/step - loss: 0.0194 - acc: 0.9945 - val_loss: 0.0530 - val_acc: 0.9845\n",
      "Epoch 8/20\n",
      "60000/60000 [==============================] - 9s 155us/step - loss: 0.0159 - acc: 0.9955 - val_loss: 0.0524 - val_acc: 0.9846\n",
      "Epoch 9/20\n",
      "60000/60000 [==============================] - 9s 155us/step - loss: 0.0128 - acc: 0.9962 - val_loss: 0.0588 - val_acc: 0.9828\n",
      "Epoch 10/20\n",
      "60000/60000 [==============================] - 9s 154us/step - loss: 0.0101 - acc: 0.9973 - val_loss: 0.0535 - val_acc: 0.9854\n",
      "Epoch 11/20\n",
      "60000/60000 [==============================] - 9s 154us/step - loss: 0.0081 - acc: 0.9979 - val_loss: 0.0581 - val_acc: 0.9850\n",
      "Epoch 12/20\n",
      "60000/60000 [==============================] - 9s 154us/step - loss: 0.0078 - acc: 0.9976 - val_loss: 0.0631 - val_acc: 0.9846\n",
      "Epoch 13/20\n",
      "60000/60000 [==============================] - 9s 154us/step - loss: 0.0067 - acc: 0.9980 - val_loss: 0.0632 - val_acc: 0.9854\n",
      "Epoch 14/20\n",
      "60000/60000 [==============================] - 9s 154us/step - loss: 0.0048 - acc: 0.9988 - val_loss: 0.0616 - val_acc: 0.9862\n",
      "Epoch 15/20\n",
      "60000/60000 [==============================] - 9s 154us/step - loss: 0.0045 - acc: 0.9987 - val_loss: 0.0679 - val_acc: 0.9844\n",
      "Epoch 16/20\n",
      "60000/60000 [==============================] - 9s 154us/step - loss: 0.0036 - acc: 0.9992 - val_loss: 0.0797 - val_acc: 0.9829\n",
      "Epoch 17/20\n",
      "60000/60000 [==============================] - 9s 155us/step - loss: 0.0036 - acc: 0.9991 - val_loss: 0.0723 - val_acc: 0.9850\n",
      "Epoch 18/20\n",
      "60000/60000 [==============================] - 9s 157us/step - loss: 0.0029 - acc: 0.9992 - val_loss: 0.0769 - val_acc: 0.9845\n",
      "Epoch 19/20\n",
      "60000/60000 [==============================] - 9s 158us/step - loss: 0.0046 - acc: 0.9987 - val_loss: 0.0900 - val_acc: 0.9829\n",
      "Epoch 20/20\n",
      "60000/60000 [==============================] - 9s 158us/step - loss: 0.0040 - acc: 0.9989 - val_loss: 0.0732 - val_acc: 0.9860\n"
     ]
    }
   ],
   "source": [
    "record = model.fit(trainx, train_y,validation_data=(testx,test_y), epochs=20, batch_size=100)"
   ]
  },
  {
   "cell_type": "code",
   "execution_count": 7,
   "metadata": {},
   "outputs": [
    {
     "name": "stdout",
     "output_type": "stream",
     "text": [
      "Train on 60000 samples, validate on 10000 samples\n",
      "Epoch 1/20\n",
      "60000/60000 [==============================] - 9s 158us/step - loss: 0.3252 - acc: 0.9142 - val_loss: 0.1048 - val_acc: 0.9662\n",
      "Epoch 2/20\n",
      "60000/60000 [==============================] - 9s 154us/step - loss: 0.0872 - acc: 0.9738 - val_loss: 0.0790 - val_acc: 0.9739\n",
      "Epoch 3/20\n",
      "60000/60000 [==============================] - 9s 155us/step - loss: 0.0641 - acc: 0.9801 - val_loss: 0.0557 - val_acc: 0.9820\n",
      "Epoch 4/20\n",
      "60000/60000 [==============================] - 9s 156us/step - loss: 0.0495 - acc: 0.9850 - val_loss: 0.0418 - val_acc: 0.9861\n",
      "Epoch 5/20\n",
      "60000/60000 [==============================] - 9s 157us/step - loss: 0.0436 - acc: 0.9868 - val_loss: 0.0461 - val_acc: 0.9856\n",
      "Epoch 6/20\n",
      "60000/60000 [==============================] - 9s 157us/step - loss: 0.0364 - acc: 0.9890 - val_loss: 0.0471 - val_acc: 0.9848\n",
      "Epoch 7/20\n",
      "60000/60000 [==============================] - 10s 165us/step - loss: 0.0321 - acc: 0.9901 - val_loss: 0.0357 - val_acc: 0.9893\n",
      "Epoch 8/20\n",
      "60000/60000 [==============================] - 10s 158us/step - loss: 0.0291 - acc: 0.9908 - val_loss: 0.0335 - val_acc: 0.9892\n",
      "Epoch 9/20\n",
      "60000/60000 [==============================] - 10s 162us/step - loss: 0.0265 - acc: 0.9919 - val_loss: 0.0338 - val_acc: 0.9887\n",
      "Epoch 10/20\n",
      "60000/60000 [==============================] - 10s 159us/step - loss: 0.0226 - acc: 0.9931 - val_loss: 0.0307 - val_acc: 0.9900\n",
      "Epoch 11/20\n",
      "60000/60000 [==============================] - 10s 159us/step - loss: 0.0201 - acc: 0.9938 - val_loss: 0.0341 - val_acc: 0.9886\n",
      "Epoch 12/20\n",
      "60000/60000 [==============================] - 10s 159us/step - loss: 0.0186 - acc: 0.9941 - val_loss: 0.0329 - val_acc: 0.9889\n",
      "Epoch 13/20\n",
      "60000/60000 [==============================] - 10s 162us/step - loss: 0.0162 - acc: 0.9950 - val_loss: 0.0330 - val_acc: 0.9899\n",
      "Epoch 14/20\n",
      "60000/60000 [==============================] - 10s 168us/step - loss: 0.0163 - acc: 0.9948 - val_loss: 0.0320 - val_acc: 0.9899\n",
      "Epoch 15/20\n",
      "60000/60000 [==============================] - 10s 161us/step - loss: 0.0131 - acc: 0.9958 - val_loss: 0.0335 - val_acc: 0.9905\n",
      "Epoch 16/20\n",
      "60000/60000 [==============================] - 10s 162us/step - loss: 0.0110 - acc: 0.9968 - val_loss: 0.0386 - val_acc: 0.9895\n",
      "Epoch 17/20\n",
      "60000/60000 [==============================] - 10s 164us/step - loss: 0.0121 - acc: 0.9958 - val_loss: 0.0494 - val_acc: 0.9847\n",
      "Epoch 18/20\n",
      "60000/60000 [==============================] - 10s 161us/step - loss: 0.0101 - acc: 0.9966 - val_loss: 0.0379 - val_acc: 0.9887\n",
      "Epoch 19/20\n",
      "60000/60000 [==============================] - 10s 162us/step - loss: 0.0085 - acc: 0.9973 - val_loss: 0.0443 - val_acc: 0.9875\n",
      "Epoch 20/20\n",
      "60000/60000 [==============================] - 10s 162us/step - loss: 0.0076 - acc: 0.9975 - val_loss: 0.0388 - val_acc: 0.9896\n"
     ]
    }
   ],
   "source": [
    "record1 = model1.fit(trainx, train_y,validation_data=(testx,test_y), epochs=20, batch_size=100)"
   ]
  },
  {
   "cell_type": "markdown",
   "metadata": {},
   "source": [
    "# Prediction"
   ]
  },
  {
   "cell_type": "markdown",
   "metadata": {},
   "source": [
    "## Original Image"
   ]
  },
  {
   "cell_type": "code",
   "execution_count": 8,
   "metadata": {},
   "outputs": [
    {
     "data": {
      "text/plain": [
       "<matplotlib.image.AxesImage at 0x22ec4e776d8>"
      ]
     },
     "execution_count": 8,
     "metadata": {},
     "output_type": "execute_result"
    },
    {
     "data": {
      "image/png": "[encoded data removed]",
      "text/plain": [
       "<Figure size 432x288 with 1 Axes>"
      ]
     },
     "metadata": {
      "needs_background": "light"
     },
     "output_type": "display_data"
    }
   ],
   "source": [
    "plt.imshow(trainx[1].reshape(44,44), cmap='gray')"
   ]
  },
  {
   "cell_type": "markdown",
   "metadata": {},
   "source": [
    "## Prediction for original Image"
   ]
  },
  {
   "cell_type": "code",
   "execution_count": 9,
   "metadata": {},
   "outputs": [
    {
     "name": "stdout",
     "output_type": "stream",
     "text": [
      "Model-1 0\n",
      "Model-2 0\n"
     ]
    }
   ],
   "source": [
    "print('Model-1', np.argmax(model.predict(np.expand_dims(trainx[1],axis=0))))\n",
    "print('Model-2', np.argmax(model1.predict(np.expand_dims(trainx[1],axis=0))))"
   ]
  },
  {
   "cell_type": "markdown",
   "metadata": {},
   "source": [
    "# Translate upto 10 pixels using ImageDataGenerator"
   ]
  },
  {
   "cell_type": "code",
   "execution_count": 49,
   "metadata": {},
   "outputs": [
    {
     "data": {
      "text/plain": [
       "<matplotlib.image.AxesImage at 0x22fe05fc128>"
      ]
     },
     "execution_count": 49,
     "metadata": {},
     "output_type": "execute_result"
    },
    {
     "data": {
      "image/png": "[encoded data removed]",
      "text/plain": [
       "<Figure size 432x288 with 1 Axes>"
      ]
     },
     "metadata": {
      "needs_background": "light"
     },
     "output_type": "display_data"
    }
   ],
   "source": [
    "datagen = ImageDataGenerator(height_shift_range=6,width_shift_range=6)\n",
    "b = datagen.random_transform(trainx[1])\n",
    "plt.imshow(b.reshape(44,44), cmap='gray')"
   ]
  },
  {
   "cell_type": "markdown",
   "metadata": {},
   "source": [
    "# Translated Prediction"
   ]
  },
  {
   "cell_type": "code",
   "execution_count": 50,
   "metadata": {},
   "outputs": [
    {
     "name": "stdout",
     "output_type": "stream",
     "text": [
      "Model-1 2\n",
      "Model-2 0\n"
     ]
    }
   ],
   "source": [
    "print('Model-1', np.argmax(model.predict(np.expand_dims(b,axis=0))))\n",
    "print('Model-2', np.argmax(model1.predict(np.expand_dims(b,axis=0))))"
   ]
  },
  {
   "cell_type": "code",
   "execution_count": null,
   "metadata": {},
   "outputs": [],
   "source": []
  }
 ],
 "metadata": {
  "kernelspec": {
   "display_name": "Python 3",
   "language": "python",
   "name": "python3"
  },
  "language_info": {
   "codemirror_mode": {
    "name": "ipython",
    "version": 3
   },
   "file_extension": ".py",
   "mimetype": "text/x-python",
   "name": "python",
   "nbconvert_exporter": "python",
   "pygments_lexer": "ipython3",
   "version": "3.6.8"
  }
 },
 "nbformat": 4,
 "nbformat_minor": 2
}
